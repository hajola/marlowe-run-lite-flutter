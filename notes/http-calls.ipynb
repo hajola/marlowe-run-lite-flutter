{
 "cells": [
  {
   "cell_type": "markdown",
   "id": "d1e9ad00-fa79-4020-a87b-1ec33e27863e",
   "metadata": {},
   "source": [
    "## Endpoints"
   ]
  },
  {
   "cell_type": "code",
   "execution_count": 1,
   "id": "3090e518-ddf3-4e5f-91c4-ecfc5b1e462f",
   "metadata": {
    "tags": []
   },
   "outputs": [],
   "source": [
    "MARLOWE_RT_WEBSERVER_URL=http://services.marlowe.run:13780"
   ]
  },
  {
   "cell_type": "code",
   "execution_count": 2,
   "id": "4924ad7a-5ba0-4745-b027-e351f801970a",
   "metadata": {
    "tags": []
   },
   "outputs": [],
   "source": [
    "SIGNING_SERVICE_URL=http://services.marlowe.run:13779"
   ]
  },
  {
   "cell_type": "markdown",
   "id": "82744238-f15e-4b1a-8e93-7bdfcb5b2262",
   "metadata": {},
   "source": [
    "## Addresses and keys"
   ]
  },
  {
   "cell_type": "markdown",
   "id": "6fb2bb58-d1e7-4cbd-ace4-e48f1d6c499c",
   "metadata": {
    "tags": []
   },
   "source": [
    "### Party"
   ]
  },
  {
   "cell_type": "code",
   "execution_count": 3,
   "id": "62df7144-f8ed-4c8b-98f2-3ed69d0b9a2e",
   "metadata": {
    "tags": []
   },
   "outputs": [
    {
     "name": "stdout",
     "output_type": "stream",
     "text": [
      "addr_test1vp28qhdavped0rwr24ww8fmstr727a5ln7vrshlvq7cl3zgn0uaxs"
     ]
    }
   ],
   "source": [
    "cat party.testnet.address"
   ]
  },
  {
   "cell_type": "code",
   "execution_count": 4,
   "id": "e144fab3-2d2d-4cec-810a-4c5e2038586b",
   "metadata": {
    "tags": []
   },
   "outputs": [
    {
     "name": "stdout",
     "output_type": "stream",
     "text": [
      "{\n",
      "    \"type\": \"PaymentSigningKeyShelley_ed25519\",\n",
      "    \"description\": \"Payment Signing Key\",\n",
      "    \"cborHex\": \"5820bb921c6af621b3336460e6df335d73d4d91012718240bb95dd0301fd9aa5b5e6\"\n",
      "}\n"
     ]
    }
   ],
   "source": [
    "cat party.skey"
   ]
  },
  {
   "cell_type": "markdown",
   "id": "61d579e7-ec23-45e9-b331-33b194a75810",
   "metadata": {},
   "source": [
    "### Counterparty"
   ]
  },
  {
   "cell_type": "code",
   "execution_count": 5,
   "id": "defcb047-a730-4e9c-9b91-b318ad8b1963",
   "metadata": {
    "tags": []
   },
   "outputs": [
    {
     "name": "stdout",
     "output_type": "stream",
     "text": [
      "addr_test1vrztl2rnzc47vt3llpzgh73lut3q3q3cer49qp9agsntaqgdxlyaw"
     ]
    }
   ],
   "source": [
    "cat counterparty.testnet.address"
   ]
  },
  {
   "cell_type": "markdown",
   "id": "67e371f0-f0e0-42bd-a47f-7e9485b0d5ba",
   "metadata": {},
   "source": [
    "## Contract"
   ]
  },
  {
   "cell_type": "code",
   "execution_count": 6,
   "id": "69b835f6-b88b-41ae-a394-364bc292a038",
   "metadata": {
    "tags": []
   },
   "outputs": [
    {
     "name": "stdout",
     "output_type": "stream",
     "text": [
      "{\"when\":[{\"then\":{\"when\":[{\"then\":{\"when\":[{\"then\":\"close\",\"case\":{\"notify_if\":true}}],\"timeout_continuation\":\"close\",\"timeout\":1685111280000},\"case\":{\"for_choice\":{\"choice_owner\":{\"address\":\"addr_test1vp28qhdavped0rwr24ww8fmstr727a5ln7vrshlvq7cl3zgn0uaxs\"},\"choice_name\":\"Release\"},\"choose_between\":[{\"to\":1,\"from\":1}]}}],\"timeout_continuation\":\"close\",\"timeout\":1685024580000},\"case\":{\"party\":{\"address\":\"addr_test1vp28qhdavped0rwr24ww8fmstr727a5ln7vrshlvq7cl3zgn0uaxs\"},\"of_token\":{\"token_name\":\"\",\"currency_symbol\":\"\"},\"into_account\":{\"address\":\"addr_test1vrztl2rnzc47vt3llpzgh73lut3q3q3cer49qp9agsntaqgdxlyaw\"},\"deposits\":10000000}}],\"timeout_continuation\":\"close\",\"timeout\":1684937880000}\n"
     ]
    }
   ],
   "source": [
    "cat contract.json"
   ]
  },
  {
   "cell_type": "code",
   "execution_count": 7,
   "id": "b94d08da-4d06-4ba7-906a-3f17dfed2fb6",
   "metadata": {
    "tags": []
   },
   "outputs": [
    {
     "name": "stdout",
     "output_type": "stream",
     "text": [
      "timeout: 1684937880000\n",
      "timeout_continuation: close\n",
      "when:\n",
      "- case:\n",
      "    deposits: 10000000\n",
      "    into_account:\n",
      "      address: addr_test1vrztl2rnzc47vt3llpzgh73lut3q3q3cer49qp9agsntaqgdxlyaw\n",
      "    of_token:\n",
      "      currency_symbol: ''\n",
      "      token_name: ''\n",
      "    party:\n",
      "      address: addr_test1vp28qhdavped0rwr24ww8fmstr727a5ln7vrshlvq7cl3zgn0uaxs\n",
      "  then:\n",
      "    timeout: 1685024580000\n",
      "    timeout_continuation: close\n",
      "    when:\n",
      "    - case:\n",
      "        choose_between:\n",
      "        - from: 1\n",
      "          to: 1\n",
      "        for_choice:\n",
      "          choice_name: Release\n",
      "          choice_owner:\n",
      "            address: addr_test1vp28qhdavped0rwr24ww8fmstr727a5ln7vrshlvq7cl3zgn0uaxs\n",
      "      then:\n",
      "        timeout: 1685111280000\n",
      "        timeout_continuation: close\n",
      "        when:\n",
      "        - case:\n",
      "            notify_if: true\n",
      "          then: close\n"
     ]
    }
   ],
   "source": [
    "json2yaml contract.json"
   ]
  },
  {
   "cell_type": "markdown",
   "id": "8ec59b8d-885e-4f9c-91a3-4a39547aebfb",
   "metadata": {},
   "source": [
    "## Transaction 1. Create"
   ]
  },
  {
   "cell_type": "markdown",
   "id": "861bf2ec-3b32-477b-8739-70c6218d7f8f",
   "metadata": {},
   "source": [
    "### Prepare creation request"
   ]
  },
  {
   "cell_type": "code",
   "execution_count": 8,
   "id": "27557d41-8fc8-492e-9ca6-b1d7706a04aa",
   "metadata": {
    "tags": []
   },
   "outputs": [
    {
     "name": "stdout",
     "output_type": "stream",
     "text": [
      "{\"contract\":{\"timeout\":1684937880000,\"timeout_continuation\":\"close\",\"when\":[{\"case\":{\"deposits\":10000000,\"into_account\":{\"address\":\"addr_test1vrztl2rnzc47vt3llpzgh73lut3q3q3cer49qp9agsntaqgdxlyaw\"},\"of_token\":{\"currency_symbol\":\"\",\"token_name\":\"\"},\"party\":{\"address\":\"addr_test1vp28qhdavped0rwr24ww8fmstr727a5ln7vrshlvq7cl3zgn0uaxs\"}},\"then\":{\"timeout\":1685024580000,\"timeout_continuation\":\"close\",\"when\":[{\"case\":{\"choose_between\":[{\"from\":1,\"to\":1}],\"for_choice\":{\"choice_name\":\"Release\",\"choice_owner\":{\"address\":\"addr_test1vp28qhdavped0rwr24ww8fmstr727a5ln7vrshlvq7cl3zgn0uaxs\"}}},\"then\":{\"timeout\":1685111280000,\"timeout_continuation\":\"close\",\"when\":[{\"case\":{\"notify_if\":true},\"then\":\"close\"}]}}]}}]},\"metadata\":{},\"minUTxODeposit\":2000000,\"roles\":null,\"tags\":{},\"version\":\"v1\"}\n"
     ]
    }
   ],
   "source": [
    "yaml2json << EOI > request-1.json\n",
    "version: v1\n",
    "contract: `cat contract.json`\n",
    "roles: null\n",
    "minUTxODeposit: 2000000\n",
    "metadata: {}\n",
    "tags: {}\n",
    "EOI\n",
    "\n",
    "cat request-1.json"
   ]
  },
  {
   "cell_type": "markdown",
   "id": "6626a211-a573-4a1b-8358-a0786e48e9dd",
   "metadata": {},
   "source": [
    "### Call endpoint to build creation transaction"
   ]
  },
  {
   "cell_type": "code",
   "execution_count": 9,
   "id": "3fa52d5c-2435-40ff-962e-6fbc07d07b91",
   "metadata": {
    "tags": []
   },
   "outputs": [
    {
     "name": "stdout",
     "output_type": "stream",
     "text": [
      "links:\n",
      "  contract: contracts/72a559b7a7a51f89cd2d09962a566a11f1fc1d5d8bab629ee70a54b91033c787%231\n",
      "resource:\n",
      "  contractId: 72a559b7a7a51f89cd2d09962a566a11f1fc1d5d8bab629ee70a54b91033c787#1\n",
      "  txBody:\n",
      "    cborHex: 86a40081825820bab33e55c9bdfd179627708120a4fea8b762ab671dfa27cac27085730d90bfe2000182a200581d6054705dbd6072d78dc3555ce3a77058fcaf769f9f98385fec07b1f889011a0ad57829a300581d702ed2631dbb277c84334453c5c437b86325d371f0835a28b910a91a6e011a001e84800282005820a10bfb9106a6faf7ba77592d438bda4bd019cd33aa71fd954f0a9853a5bdd831021a0002d5e50b582067aa14f520459dae714839cd931c1627ac8965c515ab0002a4f59b42cb9145019fff81d8799fd8799f40ffd8799fa1d8799fd8799fd87980d8799fd8799f581c54705dbd6072d78dc3555ce3a77058fcaf769f9f98385fec07b1f889ffd87a80ffffd8799f4040ffff1a001e8480a0a000ffd87c9f9fd8799fd8799fd8799fd87980d8799fd8799f581cc4bfa873162be62e3ff8448bfa3fe2e2088238c8ea5004bd4426be81ffd87a80ffffd8799fd87980d8799fd8799f581c54705dbd6072d78dc3555ce3a77058fcaf769f9f98385fec07b1f889ffd87a80ffffd8799f4040ffd87a9f1a00989680ffffd87c9f9fd8799fd87a9fd8799f4752656c65617365d8799fd87980d8799fd8799f581c54705dbd6072d78dc3555ce3a77058fcaf769f9f98385fec07b1f889ffd87a80ffffff9fd8799f0101ffffffd87c9f9fd8799fd87b9fd9050280ffd87980ffff1b0000018858759180d87980ffffff1b00000188534aa1a0d87980ffffff1b000001884e1fb1c0d87980ffff80f5f6\n",
      "    description: ''\n",
      "    type: TxBodyBabbage\n"
     ]
    }
   ],
   "source": [
    "curl \"$MARLOWE_RT_WEBSERVER_URL/contracts\" \\\n",
    "  -X POST \\\n",
    "  -H 'Content-Type: application/json' \\\n",
    "  -H 'X-Change-Address: addr_test1vp28qhdavped0rwr24ww8fmstr727a5ln7vrshlvq7cl3zgn0uaxs' \\\n",
    "  -d @request-1.json \\\n",
    "  -o response-1.json \\\n",
    "  -sS\n",
    "\n",
    "json2yaml response-1.json"
   ]
  },
  {
   "cell_type": "markdown",
   "id": "c96fedb8-6258-452b-bab5-204f2619204f",
   "metadata": {},
   "source": [
    "### Find contract ID"
   ]
  },
  {
   "cell_type": "code",
   "execution_count": 10,
   "id": "e7626210-875d-41a0-aa83-ae0b5291ecf9",
   "metadata": {
    "tags": []
   },
   "outputs": [
    {
     "name": "stdout",
     "output_type": "stream",
     "text": [
      "CONTRACT_ID = 72a559b7a7a51f89cd2d09962a566a11f1fc1d5d8bab629ee70a54b91033c787#1\n"
     ]
    }
   ],
   "source": [
    "CONTRACT_ID=\"$(jq -r '.resource.contractId' response-1.json)\"\n",
    "echo \"CONTRACT_ID = $CONTRACT_ID\""
   ]
  },
  {
   "cell_type": "markdown",
   "id": "ac186582-469a-4a9e-a734-acab1b52f9ba",
   "metadata": {},
   "source": [
    "### Find contract endpoint"
   ]
  },
  {
   "cell_type": "code",
   "execution_count": 12,
   "id": "923e52c2-36a0-4fc0-8379-7f8c6db16b83",
   "metadata": {
    "tags": []
   },
   "outputs": [
    {
     "name": "stdout",
     "output_type": "stream",
     "text": [
      "CONTRACT_URL = http://192.168.0.12:13780/contracts/72a559b7a7a51f89cd2d09962a566a11f1fc1d5d8bab629ee70a54b91033c787%231\n"
     ]
    }
   ],
   "source": [
    "CONTRACT_URL=\"$MARLOWE_RT_WEBSERVER_URL/`jq -r '.links.contract' response-1.json`\"\n",
    "echo \"CONTRACT_URL = $CONTRACT_URL\""
   ]
  },
  {
   "cell_type": "markdown",
   "id": "9071cbba-c7fb-4cea-863c-55b71ecc978a",
   "metadata": {},
   "source": [
    "### Extract unsigned transaction body"
   ]
  },
  {
   "cell_type": "code",
   "execution_count": 13,
   "id": "eafff9ed-8e8e-4728-99d1-ed024a45a24b",
   "metadata": {
    "tags": []
   },
   "outputs": [
    {
     "name": "stdout",
     "output_type": "stream",
     "text": [
      "{\n",
      "  \"cborHex\": \"86a40081825820bab33e55c9bdfd179627708120a4fea8b762ab671dfa27cac27085730d90bfe2000182a200581d6054705dbd6072d78dc3555ce3a77058fcaf769f9f98385fec07b1f889011a0ad57829a300581d702ed2631dbb277c84334453c5c437b86325d371f0835a28b910a91a6e011a001e84800282005820a10bfb9106a6faf7ba77592d438bda4bd019cd33aa71fd954f0a9853a5bdd831021a0002d5e50b582067aa14f520459dae714839cd931c1627ac8965c515ab0002a4f59b42cb9145019fff81d8799fd8799f40ffd8799fa1d8799fd8799fd87980d8799fd8799f581c54705dbd6072d78dc3555ce3a77058fcaf769f9f98385fec07b1f889ffd87a80ffffd8799f4040ffff1a001e8480a0a000ffd87c9f9fd8799fd8799fd8799fd87980d8799fd8799f581cc4bfa873162be62e3ff8448bfa3fe2e2088238c8ea5004bd4426be81ffd87a80ffffd8799fd87980d8799fd8799f581c54705dbd6072d78dc3555ce3a77058fcaf769f9f98385fec07b1f889ffd87a80ffffd8799f4040ffd87a9f1a00989680ffffd87c9f9fd8799fd87a9fd8799f4752656c65617365d8799fd87980d8799fd8799f581c54705dbd6072d78dc3555ce3a77058fcaf769f9f98385fec07b1f889ffd87a80ffffff9fd8799f0101ffffffd87c9f9fd8799fd87b9fd9050280ffd87980ffff1b0000018858759180d87980ffffff1b00000188534aa1a0d87980ffffff1b000001884e1fb1c0d87980ffff80f5f6\",\n",
      "  \"description\": \"\",\n",
      "  \"type\": \"TxBodyBabbage\"\n",
      "}\n"
     ]
    }
   ],
   "source": [
    "jq '.resource.txBody' response-1.json > tx-1.unsigned\n",
    "\n",
    "cat tx-1.unsigned"
   ]
  },
  {
   "cell_type": "markdown",
   "id": "4a627a4c-af07-4903-a056-dc0cf6179446",
   "metadata": {},
   "source": [
    "### Prepare signing request"
   ]
  },
  {
   "cell_type": "code",
   "execution_count": 14,
   "id": "79ef23aa-3c87-4ee5-b7c5-d1402838ea92",
   "metadata": {
    "tags": []
   },
   "outputs": [
    {
     "name": "stdout",
     "output_type": "stream",
     "text": [
      "{\"body\":{\"cborHex\":\"86a40081825820bab33e55c9bdfd179627708120a4fea8b762ab671dfa27cac27085730d90bfe2000182a200581d6054705dbd6072d78dc3555ce3a77058fcaf769f9f98385fec07b1f889011a0ad57829a300581d702ed2631dbb277c84334453c5c437b86325d371f0835a28b910a91a6e011a001e84800282005820a10bfb9106a6faf7ba77592d438bda4bd019cd33aa71fd954f0a9853a5bdd831021a0002d5e50b582067aa14f520459dae714839cd931c1627ac8965c515ab0002a4f59b42cb9145019fff81d8799fd8799f40ffd8799fa1d8799fd8799fd87980d8799fd8799f581c54705dbd6072d78dc3555ce3a77058fcaf769f9f98385fec07b1f889ffd87a80ffffd8799f4040ffff1a001e8480a0a000ffd87c9f9fd8799fd8799fd8799fd87980d8799fd8799f581cc4bfa873162be62e3ff8448bfa3fe2e2088238c8ea5004bd4426be81ffd87a80ffffd8799fd87980d8799fd8799f581c54705dbd6072d78dc3555ce3a77058fcaf769f9f98385fec07b1f889ffd87a80ffffd8799f4040ffd87a9f1a00989680ffffd87c9f9fd8799fd87a9fd8799f4752656c65617365d8799fd87980d8799fd8799f581c54705dbd6072d78dc3555ce3a77058fcaf769f9f98385fec07b1f889ffd87a80ffffff9fd8799f0101ffffffd87c9f9fd8799fd87b9fd9050280ffd87980ffff1b0000018858759180d87980ffffff1b00000188534aa1a0d87980ffffff1b000001884e1fb1c0d87980ffff80f5f6\",\"description\":\"\",\"type\":\"TxBodyBabbage\"},\"paymentExtendedKeys\":[],\"paymentKeys\":[{\"cborHex\":\"5820bb921c6af621b3336460e6df335d73d4d91012718240bb95dd0301fd9aa5b5e6\",\"description\":\"Payment Signing Key\",\"type\":\"PaymentSigningKeyShelley_ed25519\"}]}\n"
     ]
    }
   ],
   "source": [
    "yaml2json << EOI > signing-request-1.json\n",
    "body: $(cat tx-1.unsigned)\n",
    "paymentKeys: [$(cat party.skey)]\n",
    "paymentExtendedKeys: []\n",
    "EOI\n",
    "\n",
    "cat signing-request-1.json"
   ]
  },
  {
   "cell_type": "markdown",
   "id": "0230521e-f187-4a32-8f3a-b73cb9a68ffa",
   "metadata": {},
   "source": [
    "### Call endpoint to sign transaction"
   ]
  },
  {
   "cell_type": "code",
   "execution_count": 15,
   "id": "846dcab4-875c-49bc-913f-b39845c2617d",
   "metadata": {
    "tags": []
   },
   "outputs": [
    {
     "name": "stdout",
     "output_type": "stream",
     "text": [
      "tx:\n",
      "  cborHex: 84a40081825820bab33e55c9bdfd179627708120a4fea8b762ab671dfa27cac27085730d90bfe2000182a200581d6054705dbd6072d78dc3555ce3a77058fcaf769f9f98385fec07b1f889011a0ad57829a300581d702ed2631dbb277c84334453c5c437b86325d371f0835a28b910a91a6e011a001e84800282005820a10bfb9106a6faf7ba77592d438bda4bd019cd33aa71fd954f0a9853a5bdd831021a0002d5e50b582067aa14f520459dae714839cd931c1627ac8965c515ab0002a4f59b42cb914501a20081825820ae56efbd10931edd0bcc4c1f929ab9c8d30fe15a58ea4df515aa281d1479a21c5840f188224579981972235874dd65847e79c69a8cd4145262f9c9893600001b9ec84d9df34f498c650fa81b4e53f483595ff6aed2882d513227ff7cb6a52cd04b0e0481d8799fd8799f40ffd8799fa1d8799fd8799fd87980d8799fd8799f581c54705dbd6072d78dc3555ce3a77058fcaf769f9f98385fec07b1f889ffd87a80ffffd8799f4040ffff1a001e8480a0a000ffd87c9f9fd8799fd8799fd8799fd87980d8799fd8799f581cc4bfa873162be62e3ff8448bfa3fe2e2088238c8ea5004bd4426be81ffd87a80ffffd8799fd87980d8799fd8799f581c54705dbd6072d78dc3555ce3a77058fcaf769f9f98385fec07b1f889ffd87a80ffffd8799f4040ffd87a9f1a00989680ffffd87c9f9fd8799fd87a9fd8799f4752656c65617365d8799fd87980d8799fd8799f581c54705dbd6072d78dc3555ce3a77058fcaf769f9f98385fec07b1f889ffd87a80ffffff9fd8799f0101ffffffd87c9f9fd8799fd87b9fd9050280ffd87980ffff1b0000018858759180d87980ffffff1b00000188534aa1a0d87980ffffff1b000001884e1fb1c0d87980fffff5f6\n",
      "  description: ''\n",
      "  type: Tx BabbageEra\n",
      "txId: 72a559b7a7a51f89cd2d09962a566a11f1fc1d5d8bab629ee70a54b91033c787\n"
     ]
    }
   ],
   "source": [
    "curl -sS \\\n",
    "  -H 'Content-Type: application/json' \\\n",
    "  -H 'Accept: application/json' \\\n",
    "  -d @signing-request-1.json \\\n",
    "  -o signing-response-1.json \\\n",
    "  $SIGNING_SERVICE_URL/sign\n",
    "  \n",
    "json2yaml signing-response-1.json"
   ]
  },
  {
   "cell_type": "markdown",
   "id": "344bc7b0-a34e-4a1b-b139-5d75c370f32a",
   "metadata": {},
   "source": [
    "### Extract the text envelope for the signed transaction"
   ]
  },
  {
   "cell_type": "code",
   "execution_count": 16,
   "id": "8e652bc1-229b-41b3-9f91-a04cee75b72a",
   "metadata": {
    "tags": []
   },
   "outputs": [],
   "source": [
    "jq '.tx' signing-response-1.json > tx-1.signed"
   ]
  },
  {
   "cell_type": "markdown",
   "id": "450d4dcf-bed8-41d5-9d07-83660583a80f",
   "metadata": {},
   "source": [
    "### Call the endpoint to submit the transaction"
   ]
  },
  {
   "cell_type": "code",
   "execution_count": 17,
   "id": "26e53037-d6b2-4f60-b192-91e4ac74ea21",
   "metadata": {
    "tags": []
   },
   "outputs": [],
   "source": [
    "curl -sS \\\n",
    "  -X PUT \\\n",
    "  -H 'Content-Type: application/json' \\\n",
    "  -d @tx-1.signed \\\n",
    "  $CONTRACT_URL"
   ]
  },
  {
   "cell_type": "markdown",
   "id": "246164f1-fa5f-4eab-88ff-e617cfaf5dea",
   "metadata": {},
   "source": [
    "### Poll to see if the transaction has been confirmed"
   ]
  },
  {
   "cell_type": "code",
   "execution_count": 18,
   "id": "73307cb1-82b2-47fb-a3b6-7e0df8cd81bb",
   "metadata": {
    "tags": []
   },
   "outputs": [
    {
     "name": "stdout",
     "output_type": "stream",
     "text": [
      "submitted\n"
     ]
    }
   ],
   "source": [
    "curl -sS \\\n",
    "  -H 'Accept: application/json' \\\n",
    "  -o status-1.json \\\n",
    "  $CONTRACT_URL\n",
    "  \n",
    "jq -r '.resource.status' status-1.json"
   ]
  },
  {
   "cell_type": "markdown",
   "id": "895b32b9-7c6d-447a-bac6-20a5b21c1b22",
   "metadata": {},
   "source": [
    "Wait a little while and then try again."
   ]
  },
  {
   "cell_type": "code",
   "execution_count": 22,
   "id": "fb120774-f71b-4052-85ca-ed27c23762df",
   "metadata": {
    "tags": []
   },
   "outputs": [
    {
     "name": "stdout",
     "output_type": "stream",
     "text": [
      "confirmed\n"
     ]
    }
   ],
   "source": [
    "curl -sS \\\n",
    "  -H 'Accept: application/json' \\\n",
    "  -o status-1.json \\\n",
    "  $CONTRACT_URL\n",
    "  \n",
    "jq -r '.resource.status' status-1.json"
   ]
  },
  {
   "cell_type": "markdown",
   "id": "b4da9252-5467-4c96-88bb-cf0cba7bf008",
   "metadata": {},
   "source": [
    "## Transaction 2. Deposit"
   ]
  },
  {
   "cell_type": "markdown",
   "id": "f824d164-7435-47db-95e4-d3da018ec4d0",
   "metadata": {
    "tags": []
   },
   "source": [
    "<font color=\"red\">Note that this step is slightly different from the \"create\" case.</a>"
   ]
  },
  {
   "cell_type": "markdown",
   "id": "29d68ebe-9e62-40d0-a609-6d932e691c93",
   "metadata": {},
   "source": [
    "### Prepare deposit request"
   ]
  },
  {
   "cell_type": "code",
   "execution_count": 23,
   "id": "18f93f4c-f31a-4eaf-8ac6-7e1124a51142",
   "metadata": {
    "tags": []
   },
   "outputs": [
    {
     "name": "stdout",
     "output_type": "stream",
     "text": [
      "{\"inputs\":[{\"input_from_party\":{\"address\":\"addr_test1vp28qhdavped0rwr24ww8fmstr727a5ln7vrshlvq7cl3zgn0uaxs\"},\"into_account\":{\"address\":\"addr_test1vrztl2rnzc47vt3llpzgh73lut3q3q3cer49qp9agsntaqgdxlyaw\"},\"of_token\":{\"currency_symbol\":\"\",\"token_name\":\"\"},\"that_deposits\":10000000}],\"metadata\":{},\"tags\":{},\"version\":\"v1\"}\n"
     ]
    }
   ],
   "source": [
    "yaml2json << EOI > request-2.json\n",
    "version: v1\n",
    "inputs:\n",
    "- input_from_party:\n",
    "    address: addr_test1vp28qhdavped0rwr24ww8fmstr727a5ln7vrshlvq7cl3zgn0uaxs\n",
    "  that_deposits: 10000000\n",
    "  of_token:\n",
    "    currency_symbol: ''\n",
    "    token_name: ''\n",
    "  into_account:\n",
    "    address: addr_test1vrztl2rnzc47vt3llpzgh73lut3q3q3cer49qp9agsntaqgdxlyaw\n",
    "metadata: {}\n",
    "tags: {}\n",
    "EOI\n",
    "\n",
    "cat request-2.json"
   ]
  },
  {
   "cell_type": "markdown",
   "id": "bdf79196-8255-4739-a5a1-1a018ff8fed0",
   "metadata": {},
   "source": [
    "### Call endpoint to build deposit transaction"
   ]
  },
  {
   "cell_type": "code",
   "execution_count": 24,
   "id": "8b39738d-fb02-4ab0-9a26-5779d94754b5",
   "metadata": {
    "tags": []
   },
   "outputs": [
    {
     "name": "stdout",
     "output_type": "stream",
     "text": [
      "links:\n",
      "  transaction: contracts/72a559b7a7a51f89cd2d09962a566a11f1fc1d5d8bab629ee70a54b91033c787%231/transactions/bf85c5aff0261e78b5cbb945f33a2d252da0540b566946f6c0061ea25039935b\n",
      "resource:\n",
      "  contractId: 72a559b7a7a51f89cd2d09962a566a11f1fc1d5d8bab629ee70a54b91033c787#1\n",
      "  transactionId: bf85c5aff0261e78b5cbb945f33a2d252da0540b566946f6c0061ea25039935b\n",
      "  txBody:\n",
      "    cborHex: 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\n",
      "    description: ''\n",
      "    type: TxBodyBabbage\n"
     ]
    }
   ],
   "source": [
    "curl \"$CONTRACT_URL/transactions\" \\\n",
    "  -X POST \\\n",
    "  -H 'Content-Type: application/json' \\\n",
    "  -H 'X-Change-Address: addr_test1vp28qhdavped0rwr24ww8fmstr727a5ln7vrshlvq7cl3zgn0uaxs' \\\n",
    "  -d @request-2.json \\\n",
    "  -o response-2.json \\\n",
    "  -sS\n",
    "\n",
    "json2yaml response-2.json"
   ]
  },
  {
   "cell_type": "markdown",
   "id": "10a1d4e8-6501-4a6d-8dbf-247794f8c023",
   "metadata": {},
   "source": [
    "### Find transaction endpoint"
   ]
  },
  {
   "cell_type": "code",
   "execution_count": 25,
   "id": "48b810f6-b77f-47ba-b640-6484f5f9b8ab",
   "metadata": {
    "tags": []
   },
   "outputs": [
    {
     "name": "stdout",
     "output_type": "stream",
     "text": [
      "TRANSACTION_2_URL = http://192.168.0.12:13780/contracts/72a559b7a7a51f89cd2d09962a566a11f1fc1d5d8bab629ee70a54b91033c787%231/transactions/bf85c5aff0261e78b5cbb945f33a2d252da0540b566946f6c0061ea25039935b\n"
     ]
    }
   ],
   "source": [
    "TRANSACTION_2_URL=\"$MARLOWE_RT_WEBSERVER_URL/`jq -r '.links.transaction' response-2.json`\"\n",
    "echo \"TRANSACTION_2_URL = $TRANSACTION_2_URL\""
   ]
  },
  {
   "cell_type": "markdown",
   "id": "4029bea1-371f-4b46-87d4-75b15b08995e",
   "metadata": {},
   "source": [
    "### Extract unsigned transaction body"
   ]
  },
  {
   "cell_type": "code",
   "execution_count": 26,
   "id": "a91ca3cb-843c-4964-b4c6-7d994773efa2",
   "metadata": {
    "tags": []
   },
   "outputs": [
    {
     "name": "stdout",
     "output_type": "stream",
     "text": [
      "{\n",
      "  \"cborHex\": \"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\",\n",
      "  \"description\": \"\",\n",
      "  \"type\": \"TxBodyBabbage\"\n",
      "}\n"
     ]
    }
   ],
   "source": [
    "jq '.resource.txBody' response-2.json > tx-2.unsigned\n",
    "\n",
    "cat tx-2.unsigned"
   ]
  },
  {
   "cell_type": "markdown",
   "id": "0c353e8f-66e7-4f53-99b7-8b448cd54a15",
   "metadata": {},
   "source": [
    "### Prepare signing request"
   ]
  },
  {
   "cell_type": "code",
   "execution_count": 27,
   "id": "7a0bb3c6-eab2-4217-bcda-4b8e6908ef2c",
   "metadata": {
    "tags": []
   },
   "outputs": [
    {
     "name": "stdout",
     "output_type": "stream",
     "text": [
      "{\"body\":{\"cborHex\":\"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\",\"description\":\"\",\"type\":\"TxBodyBabbage\"},\"paymentExtendedKeys\":[],\"paymentKeys\":[{\"cborHex\":\"5820bb921c6af621b3336460e6df335d73d4d91012718240bb95dd0301fd9aa5b5e6\",\"description\":\"Payment Signing Key\",\"type\":\"PaymentSigningKeyShelley_ed25519\"}]}\n"
     ]
    }
   ],
   "source": [
    "yaml2json << EOI > signing-request-2.json\n",
    "body: $(cat tx-2.unsigned)\n",
    "paymentKeys: [$(cat party.skey)]\n",
    "paymentExtendedKeys: []\n",
    "EOI\n",
    "\n",
    "cat signing-request-2.json"
   ]
  },
  {
   "cell_type": "markdown",
   "id": "9cf6ce97-10b5-422e-b80d-6d7c58699d8b",
   "metadata": {},
   "source": [
    "### Call endpoint to sign transaction"
   ]
  },
  {
   "cell_type": "code",
   "execution_count": 28,
   "id": "a7342f75-ba0e-4e2c-8dd9-c4a5db8c50ab",
   "metadata": {
    "tags": []
   },
   "outputs": [
    {
     "name": "stdout",
     "output_type": "stream",
     "text": [
      "tx:\n",
      "  cborHex: 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\n",
      "  description: ''\n",
      "  type: Tx BabbageEra\n",
      "txId: bf85c5aff0261e78b5cbb945f33a2d252da0540b566946f6c0061ea25039935b\n"
     ]
    }
   ],
   "source": [
    "curl -sS \\\n",
    "  -H 'Content-Type: application/json' \\\n",
    "  -H 'Accept: application/json' \\\n",
    "  -d @signing-request-2.json \\\n",
    "  -o signing-response-2.json \\\n",
    "  $SIGNING_SERVICE_URL/sign\n",
    "  \n",
    "json2yaml signing-response-2.json"
   ]
  },
  {
   "cell_type": "markdown",
   "id": "ecbfd500-f1db-442b-8a4a-dacd5d44de62",
   "metadata": {},
   "source": [
    "### Extract the text envelope for the signed transaction"
   ]
  },
  {
   "cell_type": "code",
   "execution_count": 29,
   "id": "318ea8d6-1bc0-40b6-a092-8d1bab81206b",
   "metadata": {
    "tags": []
   },
   "outputs": [],
   "source": [
    "jq '.tx' signing-response-2.json > tx-2.signed"
   ]
  },
  {
   "cell_type": "markdown",
   "id": "567979f0-3ef3-4159-8028-4d2f75e9dc26",
   "metadata": {},
   "source": [
    "### Call the endpoint to submit the transaction"
   ]
  },
  {
   "cell_type": "code",
   "execution_count": 30,
   "id": "b6fb83f0-07b5-4635-95e3-a4070d7ad3b0",
   "metadata": {
    "tags": []
   },
   "outputs": [],
   "source": [
    "curl -sS \\\n",
    "  -X PUT \\\n",
    "  -H 'Content-Type: application/json' \\\n",
    "  -d @tx-2.signed \\\n",
    "  $TRANSACTION_2_URL"
   ]
  },
  {
   "cell_type": "markdown",
   "id": "b461e6d9-cb7e-492e-9946-6e778a4da63e",
   "metadata": {},
   "source": [
    "### Poll to see if the transaction has been confirmed"
   ]
  },
  {
   "cell_type": "code",
   "execution_count": 31,
   "id": "ccaa328e-ca4c-4f62-8c97-4ccbe63b1df6",
   "metadata": {
    "tags": []
   },
   "outputs": [
    {
     "name": "stdout",
     "output_type": "stream",
     "text": [
      "submitted\n"
     ]
    }
   ],
   "source": [
    "curl -sS \\\n",
    "  -H 'Accept: application/json' \\\n",
    "  -o status-2.json \\\n",
    "  $TRANSACTION_2_URL\n",
    "  \n",
    "jq -r '.resource.status' status-2.json"
   ]
  },
  {
   "cell_type": "markdown",
   "id": "21c568c9-c25b-42e3-84c7-09a6c707c1c9",
   "metadata": {},
   "source": [
    "Wait a little while and then try again."
   ]
  },
  {
   "cell_type": "code",
   "execution_count": 32,
   "id": "dd689b97-2627-4b3b-a03e-c3b96e463d68",
   "metadata": {
    "tags": []
   },
   "outputs": [
    {
     "name": "stdout",
     "output_type": "stream",
     "text": [
      "confirmed\n"
     ]
    }
   ],
   "source": [
    "curl -sS \\\n",
    "  -H 'Accept: application/json' \\\n",
    "  -o status-2.json \\\n",
    "  $TRANSACTION_2_URL\n",
    "  \n",
    "jq -r '.resource.status' status-2.json"
   ]
  },
  {
   "cell_type": "markdown",
   "id": "b8d247f1-6d2a-4326-98a8-bf0c89f1368f",
   "metadata": {},
   "source": [
    "## Transaction 3. Choice"
   ]
  },
  {
   "cell_type": "markdown",
   "id": "2d8dde2a-3eef-44d2-8d4a-e3fe68acc9e2",
   "metadata": {},
   "source": [
    "### Prepare choice request"
   ]
  },
  {
   "cell_type": "markdown",
   "id": "a53f2d5c-5d4e-473a-8cc3-34b0fa671d91",
   "metadata": {
    "tags": []
   },
   "source": [
    "<font color=\"red\">Note that only this step is different from the \"deposit\" case. Everything else is the same.</a>"
   ]
  },
  {
   "cell_type": "code",
   "execution_count": 33,
   "id": "5f0f30ff-8c87-4382-b0b4-e3352b9b7ec1",
   "metadata": {
    "tags": []
   },
   "outputs": [
    {
     "name": "stdout",
     "output_type": "stream",
     "text": [
      "{\"inputs\":[{\"for_choice_id\":{\"choice_name\":\"Release\",\"choice_owner\":{\"address\":\"addr_test1vp28qhdavped0rwr24ww8fmstr727a5ln7vrshlvq7cl3zgn0uaxs\"}},\"input_that_chooses_num\":1}],\"metadata\":{},\"tags\":{},\"version\":\"v1\"}\n"
     ]
    }
   ],
   "source": [
    "yaml2json << EOI > request-3.json\n",
    "version: v1\n",
    "inputs:\n",
    "- input_that_chooses_num: 1\n",
    "  for_choice_id:\n",
    "    choice_name: Release\n",
    "    choice_owner:\n",
    "      address: addr_test1vp28qhdavped0rwr24ww8fmstr727a5ln7vrshlvq7cl3zgn0uaxs\n",
    "metadata: {}\n",
    "tags: {}\n",
    "EOI\n",
    "\n",
    "cat request-3.json"
   ]
  },
  {
   "cell_type": "markdown",
   "id": "08c2a1b6-1a6b-4efe-84d7-3273cdccd6a1",
   "metadata": {},
   "source": [
    "### Call endpoint to build deposit transaction"
   ]
  },
  {
   "cell_type": "code",
   "execution_count": 34,
   "id": "cf6a0a39-294d-46f2-ab3e-99e11d304698",
   "metadata": {
    "tags": []
   },
   "outputs": [
    {
     "name": "stdout",
     "output_type": "stream",
     "text": [
      "links:\n",
      "  transaction: contracts/72a559b7a7a51f89cd2d09962a566a11f1fc1d5d8bab629ee70a54b91033c787%231/transactions/dac5bb4208db9f43c0a35394837d6ec96cfe42f6eaabfb973e00d5f22cbd8552\n",
      "resource:\n",
      "  contractId: 72a559b7a7a51f89cd2d09962a566a11f1fc1d5d8bab629ee70a54b91033c787#1\n",
      "  transactionId: dac5bb4208db9f43c0a35394837d6ec96cfe42f6eaabfb973e00d5f22cbd8552\n",
      "  txBody:\n",
      "    cborHex: 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\n",
      "    description: ''\n",
      "    type: TxBodyBabbage\n"
     ]
    }
   ],
   "source": [
    "curl \"$CONTRACT_URL/transactions\" \\\n",
    "  -X POST \\\n",
    "  -H 'Content-Type: application/json' \\\n",
    "  -H 'X-Change-Address: addr_test1vp28qhdavped0rwr24ww8fmstr727a5ln7vrshlvq7cl3zgn0uaxs' \\\n",
    "  -d @request-3.json \\\n",
    "  -o response-3.json \\\n",
    "  -sS\n",
    "\n",
    "json2yaml response-3.json"
   ]
  },
  {
   "cell_type": "markdown",
   "id": "110f9fc4-5036-4e1c-8d7d-c7192f015fdf",
   "metadata": {},
   "source": [
    "### Find transaction endpoint"
   ]
  },
  {
   "cell_type": "code",
   "execution_count": 35,
   "id": "2569ee31-5f3f-4a12-a8fe-ae9f8b4bc626",
   "metadata": {
    "tags": []
   },
   "outputs": [
    {
     "name": "stdout",
     "output_type": "stream",
     "text": [
      "TRANSACTION_3_URL = http://192.168.0.12:13780/contracts/72a559b7a7a51f89cd2d09962a566a11f1fc1d5d8bab629ee70a54b91033c787%231/transactions/dac5bb4208db9f43c0a35394837d6ec96cfe42f6eaabfb973e00d5f22cbd8552\n"
     ]
    }
   ],
   "source": [
    "TRANSACTION_3_URL=\"$MARLOWE_RT_WEBSERVER_URL/`jq -r '.links.transaction' response-3.json`\"\n",
    "echo \"TRANSACTION_3_URL = $TRANSACTION_3_URL\""
   ]
  },
  {
   "cell_type": "markdown",
   "id": "6aafe91c-0526-433f-a249-dc2129bb2832",
   "metadata": {},
   "source": [
    "### Extract unsigned transaction body"
   ]
  },
  {
   "cell_type": "code",
   "execution_count": 36,
   "id": "baf7776e-442c-4538-b1e4-bff777ba8b79",
   "metadata": {
    "tags": []
   },
   "outputs": [
    {
     "name": "stdout",
     "output_type": "stream",
     "text": [
      "{\n",
      "  \"cborHex\": \"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\",\n",
      "  \"description\": \"\",\n",
      "  \"type\": \"TxBodyBabbage\"\n",
      "}\n"
     ]
    }
   ],
   "source": [
    "jq '.resource.txBody' response-3.json > tx-3.unsigned\n",
    "\n",
    "cat tx-3.unsigned"
   ]
  },
  {
   "cell_type": "markdown",
   "id": "0a342eb3-f3f1-4315-90a4-b6cc96057f10",
   "metadata": {},
   "source": [
    "### Prepare signing request"
   ]
  },
  {
   "cell_type": "code",
   "execution_count": 37,
   "id": "e26ff3dc-585b-450f-85be-0dcf8932f1ec",
   "metadata": {
    "tags": []
   },
   "outputs": [
    {
     "name": "stdout",
     "output_type": "stream",
     "text": [
      "{\"body\":{\"cborHex\":\"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\",\"description\":\"\",\"type\":\"TxBodyBabbage\"},\"paymentExtendedKeys\":[],\"paymentKeys\":[{\"cborHex\":\"5820bb921c6af621b3336460e6df335d73d4d91012718240bb95dd0301fd9aa5b5e6\",\"description\":\"Payment Signing Key\",\"type\":\"PaymentSigningKeyShelley_ed25519\"}]}\n"
     ]
    }
   ],
   "source": [
    "yaml2json << EOI > signing-request-3.json\n",
    "body: $(cat tx-3.unsigned)\n",
    "paymentKeys: [$(cat party.skey)]\n",
    "paymentExtendedKeys: []\n",
    "EOI\n",
    "\n",
    "cat signing-request-3.json"
   ]
  },
  {
   "cell_type": "markdown",
   "id": "a862b97d-5647-4b20-b52d-8379cbc7481e",
   "metadata": {},
   "source": [
    "### Call endpoint to sign transaction"
   ]
  },
  {
   "cell_type": "code",
   "execution_count": 38,
   "id": "90225394-6c88-41c8-be6a-43dd6cd7649e",
   "metadata": {
    "tags": []
   },
   "outputs": [
    {
     "name": "stdout",
     "output_type": "stream",
     "text": [
      "tx:\n",
      "  cborHex: 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\n",
      "  description: ''\n",
      "  type: Tx BabbageEra\n",
      "txId: dac5bb4208db9f43c0a35394837d6ec96cfe42f6eaabfb973e00d5f22cbd8552\n"
     ]
    }
   ],
   "source": [
    "curl -sS \\\n",
    "  -H 'Content-Type: application/json' \\\n",
    "  -H 'Accept: application/json' \\\n",
    "  -d @signing-request-3.json \\\n",
    "  -o signing-response-3.json \\\n",
    "  $SIGNING_SERVICE_URL/sign\n",
    "  \n",
    "json2yaml signing-response-3.json"
   ]
  },
  {
   "cell_type": "markdown",
   "id": "dfee4119-4782-47f0-a234-60604439b6e5",
   "metadata": {},
   "source": [
    "### Extract the text envelope for the signed transaction"
   ]
  },
  {
   "cell_type": "code",
   "execution_count": 39,
   "id": "167afcf5-af83-4ad7-8ce4-670bd054b712",
   "metadata": {
    "tags": []
   },
   "outputs": [],
   "source": [
    "jq '.tx' signing-response-3.json > tx-3.signed"
   ]
  },
  {
   "cell_type": "markdown",
   "id": "55dae2e3-fab0-43d1-bc29-9b7dd41a9078",
   "metadata": {},
   "source": [
    "### Call the endpoint to submit the transaction"
   ]
  },
  {
   "cell_type": "code",
   "execution_count": 40,
   "id": "004fd4ec-ab23-446d-af8f-c94288f4d642",
   "metadata": {
    "tags": []
   },
   "outputs": [],
   "source": [
    "curl -sS \\\n",
    "  -X PUT \\\n",
    "  -H 'Content-Type: application/json' \\\n",
    "  -d @tx-3.signed \\\n",
    "  $TRANSACTION_3_URL"
   ]
  },
  {
   "cell_type": "markdown",
   "id": "16d79660-6d2b-4d17-9775-e0743d2ed1ed",
   "metadata": {},
   "source": [
    "### Poll to see if the transaction has been confirmed"
   ]
  },
  {
   "cell_type": "code",
   "execution_count": 41,
   "id": "b89c31ce-d994-47a5-af11-380aa49f7102",
   "metadata": {
    "tags": []
   },
   "outputs": [
    {
     "name": "stdout",
     "output_type": "stream",
     "text": [
      "submitted\n"
     ]
    }
   ],
   "source": [
    "curl -sS \\\n",
    "  -H 'Accept: application/json' \\\n",
    "  -o status-3.json \\\n",
    "  $TRANSACTION_3_URL\n",
    "  \n",
    "jq -r '.resource.status' status-3.json"
   ]
  },
  {
   "cell_type": "markdown",
   "id": "a0188e90-68ed-4c0e-b487-ece8cd3f8a0a",
   "metadata": {},
   "source": [
    "Wait a little while and then try again."
   ]
  },
  {
   "cell_type": "code",
   "execution_count": 42,
   "id": "25eb6fb9-b40f-4053-bf99-2931a7b4121b",
   "metadata": {
    "tags": []
   },
   "outputs": [
    {
     "name": "stdout",
     "output_type": "stream",
     "text": [
      "confirmed\n"
     ]
    }
   ],
   "source": [
    "curl -sS \\\n",
    "  -H 'Accept: application/json' \\\n",
    "  -o status-3.json \\\n",
    "  $TRANSACTION_3_URL\n",
    "  \n",
    "jq -r '.resource.status' status-3.json"
   ]
  },
  {
   "cell_type": "markdown",
   "id": "8e3eed9e-691c-48cc-b794-691bd72d25d0",
   "metadata": {},
   "source": [
    "## Transaction 4. Notify"
   ]
  },
  {
   "cell_type": "markdown",
   "id": "481eb95b-4c2f-4955-9090-c8046a8bd3ba",
   "metadata": {},
   "source": [
    "### Prepare notify request"
   ]
  },
  {
   "cell_type": "markdown",
   "id": "b308e515-acaa-43cc-855d-5292b55c6869",
   "metadata": {
    "tags": []
   },
   "source": [
    "<font color=\"red\">Note that only this step is different from the \"deposit\" and \"choice\" cases. Everything else is the same.</a>"
   ]
  },
  {
   "cell_type": "code",
   "execution_count": 43,
   "id": "1eb8d42c-27b0-47d1-ad18-00c0ecbff904",
   "metadata": {
    "tags": []
   },
   "outputs": [
    {
     "name": "stdout",
     "output_type": "stream",
     "text": [
      "{\"inputs\":[\"input_notify\"],\"metadata\":{},\"tags\":{},\"version\":\"v1\"}\n"
     ]
    }
   ],
   "source": [
    "yaml2json << EOI > request-4.json\n",
    "version: v1\n",
    "inputs:\n",
    "- input_notify\n",
    "metadata: {}\n",
    "tags: {}\n",
    "EOI\n",
    "\n",
    "cat request-4.json"
   ]
  },
  {
   "cell_type": "markdown",
   "id": "349bd094-44a3-499c-accd-66ac93d4adc8",
   "metadata": {},
   "source": [
    "### Call endpoint to build notify transaction"
   ]
  },
  {
   "cell_type": "code",
   "execution_count": 44,
   "id": "609b9545-9ee4-4144-9899-06d79748c519",
   "metadata": {
    "tags": []
   },
   "outputs": [
    {
     "name": "stdout",
     "output_type": "stream",
     "text": [
      "links:\n",
      "  transaction: contracts/72a559b7a7a51f89cd2d09962a566a11f1fc1d5d8bab629ee70a54b91033c787%231/transactions/cfd7a50fb33773c76aa83cc71eb8e5aaf9c6139a4b0ca54a120870fbc09f81a5\n",
      "resource:\n",
      "  contractId: 72a559b7a7a51f89cd2d09962a566a11f1fc1d5d8bab629ee70a54b91033c787#1\n",
      "  transactionId: cfd7a50fb33773c76aa83cc71eb8e5aaf9c6139a4b0ca54a120870fbc09f81a5\n",
      "  txBody:\n",
      "    cborHex: 86aa0082825820dac5bb4208db9f43c0a35394837d6ec96cfe42f6eaabfb973e00d5f22cbd855200825820dac5bb4208db9f43c0a35394837d6ec96cfe42f6eaabfb973e00d5f22cbd8552010d81825820dac5bb4208db9f43c0a35394837d6ec96cfe42f6eaabfb973e00d5f22cbd85520012818258209a8a6f387a3330b4141e1cb019380b9ac5c72151c0abc52aa4266245d3c555cd010183a200581d6054705dbd6072d78dc3555ce3a77058fcaf769f9f98385fec07b1f889011a0a233d81a200581d6054705dbd6072d78dc3555ce3a77058fcaf769f9f98385fec07b1f889011a001e8480a200581d60c4bfa873162be62e3ff8448bfa3fe2e2088238c8ea5004bd4426be81011a0098968010a200581d6054705dbd6072d78dc3555ce3a77058fcaf769f9f98385fec07b1f889011a0a1f3a7c111a000c090f021a0008060a031a01c10970081a01bd48570b58205b0d07cb65380645561b7f5e8f386383d4318c629605a5328eddc3304bca951d9fff81d8799fd8799f40ffd8799fa2d8799fd8799fd87980d8799fd8799f581c54705dbd6072d78dc3555ce3a77058fcaf769f9f98385fec07b1f889ffd87a80ffffd8799f4040ffff1a001e8480d8799fd8799fd87980d8799fd8799f581cc4bfa873162be62e3ff8448bfa3fe2e2088238c8ea5004bd4426be81ffd87a80ffffd8799f4040ffff1a00989680a1d8799f4752656c65617365d8799fd87980d8799fd8799f581c54705dbd6072d78dc3555ce3a77058fcaf769f9f98385fec07b1f889ffd87a80ffffff01a01b0000018849ca9428ffd87c9f9fd8799fd87b9fd9050280ffd87980ffff1b0000018858759180d87980ffff818400019fd8799fd87b80ffff821a004204cc1a4350e46ef5f6\n",
      "    description: ''\n",
      "    type: TxBodyBabbage\n"
     ]
    }
   ],
   "source": [
    "curl \"$CONTRACT_URL/transactions\" \\\n",
    "  -X POST \\\n",
    "  -H 'Content-Type: application/json' \\\n",
    "  -H 'X-Change-Address: addr_test1vp28qhdavped0rwr24ww8fmstr727a5ln7vrshlvq7cl3zgn0uaxs' \\\n",
    "  -d @request-4.json \\\n",
    "  -o response-4.json \\\n",
    "  -sS\n",
    "\n",
    "json2yaml response-4.json"
   ]
  },
  {
   "cell_type": "markdown",
   "id": "fc5cfbbb-56de-4caa-82e6-e90cc1e15d78",
   "metadata": {},
   "source": [
    "### Find transaction endpoint"
   ]
  },
  {
   "cell_type": "code",
   "execution_count": 45,
   "id": "60057c55-6cb5-403e-b469-83c434cb5112",
   "metadata": {
    "tags": []
   },
   "outputs": [
    {
     "name": "stdout",
     "output_type": "stream",
     "text": [
      "TRANSACTION_4_URL = http://192.168.0.12:13780/contracts/72a559b7a7a51f89cd2d09962a566a11f1fc1d5d8bab629ee70a54b91033c787%231/transactions/cfd7a50fb33773c76aa83cc71eb8e5aaf9c6139a4b0ca54a120870fbc09f81a5\n"
     ]
    }
   ],
   "source": [
    "TRANSACTION_4_URL=\"$MARLOWE_RT_WEBSERVER_URL/`jq -r '.links.transaction' response-4.json`\"\n",
    "echo \"TRANSACTION_4_URL = $TRANSACTION_4_URL\""
   ]
  },
  {
   "cell_type": "markdown",
   "id": "93dc7831-309d-43b1-aade-635908ff7ca6",
   "metadata": {},
   "source": [
    "### Extract unsigned transaction body"
   ]
  },
  {
   "cell_type": "code",
   "execution_count": 46,
   "id": "41c1bb31-0499-4845-a32c-70d51b5a565a",
   "metadata": {
    "tags": []
   },
   "outputs": [
    {
     "name": "stdout",
     "output_type": "stream",
     "text": [
      "{\n",
      "  \"cborHex\": \"86aa0082825820dac5bb4208db9f43c0a35394837d6ec96cfe42f6eaabfb973e00d5f22cbd855200825820dac5bb4208db9f43c0a35394837d6ec96cfe42f6eaabfb973e00d5f22cbd8552010d81825820dac5bb4208db9f43c0a35394837d6ec96cfe42f6eaabfb973e00d5f22cbd85520012818258209a8a6f387a3330b4141e1cb019380b9ac5c72151c0abc52aa4266245d3c555cd010183a200581d6054705dbd6072d78dc3555ce3a77058fcaf769f9f98385fec07b1f889011a0a233d81a200581d6054705dbd6072d78dc3555ce3a77058fcaf769f9f98385fec07b1f889011a001e8480a200581d60c4bfa873162be62e3ff8448bfa3fe2e2088238c8ea5004bd4426be81011a0098968010a200581d6054705dbd6072d78dc3555ce3a77058fcaf769f9f98385fec07b1f889011a0a1f3a7c111a000c090f021a0008060a031a01c10970081a01bd48570b58205b0d07cb65380645561b7f5e8f386383d4318c629605a5328eddc3304bca951d9fff81d8799fd8799f40ffd8799fa2d8799fd8799fd87980d8799fd8799f581c54705dbd6072d78dc3555ce3a77058fcaf769f9f98385fec07b1f889ffd87a80ffffd8799f4040ffff1a001e8480d8799fd8799fd87980d8799fd8799f581cc4bfa873162be62e3ff8448bfa3fe2e2088238c8ea5004bd4426be81ffd87a80ffffd8799f4040ffff1a00989680a1d8799f4752656c65617365d8799fd87980d8799fd8799f581c54705dbd6072d78dc3555ce3a77058fcaf769f9f98385fec07b1f889ffd87a80ffffff01a01b0000018849ca9428ffd87c9f9fd8799fd87b9fd9050280ffd87980ffff1b0000018858759180d87980ffff818400019fd8799fd87b80ffff821a004204cc1a4350e46ef5f6\",\n",
      "  \"description\": \"\",\n",
      "  \"type\": \"TxBodyBabbage\"\n",
      "}\n"
     ]
    }
   ],
   "source": [
    "jq '.resource.txBody' response-4.json > tx-4.unsigned\n",
    "\n",
    "cat tx-4.unsigned"
   ]
  },
  {
   "cell_type": "markdown",
   "id": "9bd1abe8-f689-4e1e-807a-ee5783840fdd",
   "metadata": {},
   "source": [
    "### Prepare signing request"
   ]
  },
  {
   "cell_type": "code",
   "execution_count": 47,
   "id": "fa48d4f8-71f6-42c4-b040-e8f00313f6e1",
   "metadata": {
    "tags": []
   },
   "outputs": [
    {
     "name": "stdout",
     "output_type": "stream",
     "text": [
      "{\"body\":{\"cborHex\":\"86aa0082825820dac5bb4208db9f43c0a35394837d6ec96cfe42f6eaabfb973e00d5f22cbd855200825820dac5bb4208db9f43c0a35394837d6ec96cfe42f6eaabfb973e00d5f22cbd8552010d81825820dac5bb4208db9f43c0a35394837d6ec96cfe42f6eaabfb973e00d5f22cbd85520012818258209a8a6f387a3330b4141e1cb019380b9ac5c72151c0abc52aa4266245d3c555cd010183a200581d6054705dbd6072d78dc3555ce3a77058fcaf769f9f98385fec07b1f889011a0a233d81a200581d6054705dbd6072d78dc3555ce3a77058fcaf769f9f98385fec07b1f889011a001e8480a200581d60c4bfa873162be62e3ff8448bfa3fe2e2088238c8ea5004bd4426be81011a0098968010a200581d6054705dbd6072d78dc3555ce3a77058fcaf769f9f98385fec07b1f889011a0a1f3a7c111a000c090f021a0008060a031a01c10970081a01bd48570b58205b0d07cb65380645561b7f5e8f386383d4318c629605a5328eddc3304bca951d9fff81d8799fd8799f40ffd8799fa2d8799fd8799fd87980d8799fd8799f581c54705dbd6072d78dc3555ce3a77058fcaf769f9f98385fec07b1f889ffd87a80ffffd8799f4040ffff1a001e8480d8799fd8799fd87980d8799fd8799f581cc4bfa873162be62e3ff8448bfa3fe2e2088238c8ea5004bd4426be81ffd87a80ffffd8799f4040ffff1a00989680a1d8799f4752656c65617365d8799fd87980d8799fd8799f581c54705dbd6072d78dc3555ce3a77058fcaf769f9f98385fec07b1f889ffd87a80ffffff01a01b0000018849ca9428ffd87c9f9fd8799fd87b9fd9050280ffd87980ffff1b0000018858759180d87980ffff818400019fd8799fd87b80ffff821a004204cc1a4350e46ef5f6\",\"description\":\"\",\"type\":\"TxBodyBabbage\"},\"paymentExtendedKeys\":[],\"paymentKeys\":[{\"cborHex\":\"5820bb921c6af621b3336460e6df335d73d4d91012718240bb95dd0301fd9aa5b5e6\",\"description\":\"Payment Signing Key\",\"type\":\"PaymentSigningKeyShelley_ed25519\"}]}\n"
     ]
    }
   ],
   "source": [
    "yaml2json << EOI > signing-request-4.json\n",
    "body: $(cat tx-4.unsigned)\n",
    "paymentKeys: [$(cat party.skey)]\n",
    "paymentExtendedKeys: []\n",
    "EOI\n",
    "\n",
    "cat signing-request-4.json"
   ]
  },
  {
   "cell_type": "markdown",
   "id": "2cb30daf-f7d6-458c-9f35-2b2a1a34f793",
   "metadata": {},
   "source": [
    "### Call endpoint to sign transaction"
   ]
  },
  {
   "cell_type": "code",
   "execution_count": 48,
   "id": "624092a3-6b51-43cd-b5d9-496b22e70dcf",
   "metadata": {
    "tags": []
   },
   "outputs": [
    {
     "name": "stdout",
     "output_type": "stream",
     "text": [
      "tx:\n",
      "  cborHex: 84aa0082825820dac5bb4208db9f43c0a35394837d6ec96cfe42f6eaabfb973e00d5f22cbd855200825820dac5bb4208db9f43c0a35394837d6ec96cfe42f6eaabfb973e00d5f22cbd8552010d81825820dac5bb4208db9f43c0a35394837d6ec96cfe42f6eaabfb973e00d5f22cbd85520012818258209a8a6f387a3330b4141e1cb019380b9ac5c72151c0abc52aa4266245d3c555cd010183a200581d6054705dbd6072d78dc3555ce3a77058fcaf769f9f98385fec07b1f889011a0a233d81a200581d6054705dbd6072d78dc3555ce3a77058fcaf769f9f98385fec07b1f889011a001e8480a200581d60c4bfa873162be62e3ff8448bfa3fe2e2088238c8ea5004bd4426be81011a0098968010a200581d6054705dbd6072d78dc3555ce3a77058fcaf769f9f98385fec07b1f889011a0a1f3a7c111a000c090f021a0008060a031a01c10970081a01bd48570b58205b0d07cb65380645561b7f5e8f386383d4318c629605a5328eddc3304bca951da30081825820ae56efbd10931edd0bcc4c1f929ab9c8d30fe15a58ea4df515aa281d1479a21c58406ba52bd9caad7e7dce86efb09411876d21b8677f6ffae35976ba452c50a6b6e64f98741a91ba8ddbbf7a31009e8fc4944f8dadf1d77cc7faf6ad580dc4dfe8050481d8799fd8799f40ffd8799fa2d8799fd8799fd87980d8799fd8799f581c54705dbd6072d78dc3555ce3a77058fcaf769f9f98385fec07b1f889ffd87a80ffffd8799f4040ffff1a001e8480d8799fd8799fd87980d8799fd8799f581cc4bfa873162be62e3ff8448bfa3fe2e2088238c8ea5004bd4426be81ffd87a80ffffd8799f4040ffff1a00989680a1d8799f4752656c65617365d8799fd87980d8799fd8799f581c54705dbd6072d78dc3555ce3a77058fcaf769f9f98385fec07b1f889ffd87a80ffffff01a01b0000018849ca9428ffd87c9f9fd8799fd87b9fd9050280ffd87980ffff1b0000018858759180d87980ffff05818400019fd8799fd87b80ffff821a004204cc1a4350e46ef5f6\n",
      "  description: ''\n",
      "  type: Tx BabbageEra\n",
      "txId: cfd7a50fb33773c76aa83cc71eb8e5aaf9c6139a4b0ca54a120870fbc09f81a5\n"
     ]
    }
   ],
   "source": [
    "curl -sS \\\n",
    "  -H 'Content-Type: application/json' \\\n",
    "  -H 'Accept: application/json' \\\n",
    "  -d @signing-request-4.json \\\n",
    "  -o signing-response-4.json \\\n",
    "  $SIGNING_SERVICE_URL/sign\n",
    "  \n",
    "json2yaml signing-response-4.json"
   ]
  },
  {
   "cell_type": "markdown",
   "id": "f159cfcf-d249-494e-809a-e24af77a1c44",
   "metadata": {},
   "source": [
    "### Extract the text envelope for the signed transaction"
   ]
  },
  {
   "cell_type": "code",
   "execution_count": 49,
   "id": "81ec5661-577b-480d-af35-1a23ea527681",
   "metadata": {
    "tags": []
   },
   "outputs": [],
   "source": [
    "jq '.tx' signing-response-4.json > tx-4.signed"
   ]
  },
  {
   "cell_type": "markdown",
   "id": "a809b52c-fcad-4e5d-be87-c942934bbb2f",
   "metadata": {},
   "source": [
    "### Call the endpoint to submit the transaction"
   ]
  },
  {
   "cell_type": "code",
   "execution_count": 50,
   "id": "61bc8c1f-53b0-44bc-899d-5c9c621b1753",
   "metadata": {
    "tags": []
   },
   "outputs": [],
   "source": [
    "curl -sS \\\n",
    "  -X PUT \\\n",
    "  -H 'Content-Type: application/json' \\\n",
    "  -d @tx-4.signed \\\n",
    "  $TRANSACTION_4_URL"
   ]
  },
  {
   "cell_type": "markdown",
   "id": "458e4b56-ed6c-4b9f-ab52-f5ee37f57051",
   "metadata": {},
   "source": [
    "### Poll to see if the transaction has been confirmed"
   ]
  },
  {
   "cell_type": "code",
   "execution_count": 51,
   "id": "b4af64b4-c2cb-4f61-b00e-4fc15aa47e8b",
   "metadata": {
    "tags": []
   },
   "outputs": [
    {
     "name": "stdout",
     "output_type": "stream",
     "text": [
      "submitted\n"
     ]
    }
   ],
   "source": [
    "curl -sS \\\n",
    "  -H 'Accept: application/json' \\\n",
    "  -o status-4.json \\\n",
    "  $TRANSACTION_4_URL\n",
    "  \n",
    "jq -r '.resource.status' status-4.json"
   ]
  },
  {
   "cell_type": "markdown",
   "id": "920793df-62fb-4f7b-8188-72b9fc5c6f6d",
   "metadata": {},
   "source": [
    "Wait a little while and then try again."
   ]
  },
  {
   "cell_type": "code",
   "execution_count": 52,
   "id": "89d12569-da35-4f84-9ee8-d19107c79794",
   "metadata": {
    "tags": []
   },
   "outputs": [
    {
     "name": "stdout",
     "output_type": "stream",
     "text": [
      "confirmed\n"
     ]
    }
   ],
   "source": [
    "curl -sS \\\n",
    "  -H 'Accept: application/json' \\\n",
    "  -o status-4.json \\\n",
    "  $TRANSACTION_4_URL\n",
    "  \n",
    "jq -r '.resource.status' status-4.json"
   ]
  }
 ],
 "metadata": {
  "kernelspec": {
   "display_name": "Bash with Marlowe Tools",
   "language": "bash",
   "name": "bash-minimal"
  },
  "language_info": {
   "codemirror_mode": "shell",
   "file_extension": ".sh",
   "mimetype": "text/x-sh",
   "name": "bash"
  }
 },
 "nbformat": 4,
 "nbformat_minor": 5
}
