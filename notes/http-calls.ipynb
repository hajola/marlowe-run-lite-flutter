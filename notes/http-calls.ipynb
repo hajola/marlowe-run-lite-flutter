{
 "cells": [
  {
   "cell_type": "markdown",
   "id": "d1e9ad00-fa79-4020-a87b-1ec33e27863e",
   "metadata": {},
   "source": [
    "## Endpoints"
   ]
  },
  {
   "cell_type": "code",
   "execution_count": 1,
   "id": "3090e518-ddf3-4e5f-91c4-ecfc5b1e462f",
   "metadata": {
    "tags": []
   },
   "outputs": [],
   "source": [
    "MARLOWE_RT_WEBSERVER_URL=http://192.168.0.12:13780"
   ]
  },
  {
   "cell_type": "code",
   "execution_count": 2,
   "id": "4924ad7a-5ba0-4745-b027-e351f801970a",
   "metadata": {
    "tags": []
   },
   "outputs": [],
   "source": [
    "SIGNING_SERVICE_URL=http://192.168.0.12:13779"
   ]
  },
  {
   "cell_type": "markdown",
   "id": "82744238-f15e-4b1a-8e93-7bdfcb5b2262",
   "metadata": {},
   "source": [
    "## Addresses and keys"
   ]
  },
  {
   "cell_type": "markdown",
   "id": "6fb2bb58-d1e7-4cbd-ace4-e48f1d6c499c",
   "metadata": {
    "tags": []
   },
   "source": [
    "### Party"
   ]
  },
  {
   "cell_type": "code",
   "execution_count": 3,
   "id": "62df7144-f8ed-4c8b-98f2-3ed69d0b9a2e",
   "metadata": {
    "tags": []
   },
   "outputs": [
    {
     "name": "stdout",
     "output_type": "stream",
     "text": [
      "addr_test1vp28qhdavped0rwr24ww8fmstr727a5ln7vrshlvq7cl3zgn0uaxs"
     ]
    }
   ],
   "source": [
    "cat party.testnet.address"
   ]
  },
  {
   "cell_type": "code",
   "execution_count": 4,
   "id": "e144fab3-2d2d-4cec-810a-4c5e2038586b",
   "metadata": {
    "tags": []
   },
   "outputs": [
    {
     "name": "stdout",
     "output_type": "stream",
     "text": [
      "{\n",
      "    \"type\": \"PaymentSigningKeyShelley_ed25519\",\n",
      "    \"description\": \"Payment Signing Key\",\n",
      "    \"cborHex\": \"5820bb921c6af621b3336460e6df335d73d4d91012718240bb95dd0301fd9aa5b5e6\"\n",
      "}\n"
     ]
    }
   ],
   "source": [
    "cat party.skey"
   ]
  },
  {
   "cell_type": "markdown",
   "id": "61d579e7-ec23-45e9-b331-33b194a75810",
   "metadata": {},
   "source": [
    "### Counterparty"
   ]
  },
  {
   "cell_type": "code",
   "execution_count": 5,
   "id": "defcb047-a730-4e9c-9b91-b318ad8b1963",
   "metadata": {
    "tags": []
   },
   "outputs": [
    {
     "name": "stdout",
     "output_type": "stream",
     "text": [
      "addr_test1vrztl2rnzc47vt3llpzgh73lut3q3q3cer49qp9agsntaqgdxlyaw"
     ]
    }
   ],
   "source": [
    "cat counterparty.testnet.address"
   ]
  },
  {
   "cell_type": "markdown",
   "id": "67e371f0-f0e0-42bd-a47f-7e9485b0d5ba",
   "metadata": {},
   "source": [
    "## Contract"
   ]
  },
  {
   "cell_type": "code",
   "execution_count": 6,
   "id": "69b835f6-b88b-41ae-a394-364bc292a038",
   "metadata": {
    "tags": []
   },
   "outputs": [
    {
     "name": "stdout",
     "output_type": "stream",
     "text": [
      "{\"when\":[{\"then\":{\"when\":[{\"then\":{\"when\":[{\"then\":\"close\",\"case\":{\"notify_if\":true}}],\"timeout_continuation\":\"close\",\"timeout\":1685111280000},\"case\":{\"for_choice\":{\"choice_owner\":{\"address\":\"addr_test1vp28qhdavped0rwr24ww8fmstr727a5ln7vrshlvq7cl3zgn0uaxs\"},\"choice_name\":\"Release\"},\"choose_between\":[{\"to\":1,\"from\":1}]}}],\"timeout_continuation\":\"close\",\"timeout\":1685024580000},\"case\":{\"party\":{\"address\":\"addr_test1vp28qhdavped0rwr24ww8fmstr727a5ln7vrshlvq7cl3zgn0uaxs\"},\"of_token\":{\"token_name\":\"\",\"currency_symbol\":\"\"},\"into_account\":{\"address\":\"addr_test1vrztl2rnzc47vt3llpzgh73lut3q3q3cer49qp9agsntaqgdxlyaw\"},\"deposits\":10000000}}],\"timeout_continuation\":\"close\",\"timeout\":1684937880000}\n"
     ]
    }
   ],
   "source": [
    "cat contract.json"
   ]
  },
  {
   "cell_type": "code",
   "execution_count": 7,
   "id": "b94d08da-4d06-4ba7-906a-3f17dfed2fb6",
   "metadata": {
    "tags": []
   },
   "outputs": [
    {
     "name": "stdout",
     "output_type": "stream",
     "text": [
      "timeout: 1684937880000\n",
      "timeout_continuation: close\n",
      "when:\n",
      "- case:\n",
      "    deposits: 10000000\n",
      "    into_account:\n",
      "      address: addr_test1vrztl2rnzc47vt3llpzgh73lut3q3q3cer49qp9agsntaqgdxlyaw\n",
      "    of_token:\n",
      "      currency_symbol: ''\n",
      "      token_name: ''\n",
      "    party:\n",
      "      address: addr_test1vp28qhdavped0rwr24ww8fmstr727a5ln7vrshlvq7cl3zgn0uaxs\n",
      "  then:\n",
      "    timeout: 1685024580000\n",
      "    timeout_continuation: close\n",
      "    when:\n",
      "    - case:\n",
      "        choose_between:\n",
      "        - from: 1\n",
      "          to: 1\n",
      "        for_choice:\n",
      "          choice_name: Release\n",
      "          choice_owner:\n",
      "            address: addr_test1vp28qhdavped0rwr24ww8fmstr727a5ln7vrshlvq7cl3zgn0uaxs\n",
      "      then:\n",
      "        timeout: 1685111280000\n",
      "        timeout_continuation: close\n",
      "        when:\n",
      "        - case:\n",
      "            notify_if: true\n",
      "          then: close\n"
     ]
    }
   ],
   "source": [
    "json2yaml contract.json"
   ]
  },
  {
   "cell_type": "markdown",
   "id": "8ec59b8d-885e-4f9c-91a3-4a39547aebfb",
   "metadata": {},
   "source": [
    "## Transaction 1. Create"
   ]
  },
  {
   "cell_type": "markdown",
   "id": "861bf2ec-3b32-477b-8739-70c6218d7f8f",
   "metadata": {},
   "source": [
    "### Prepare creation request"
   ]
  },
  {
   "cell_type": "code",
   "execution_count": 8,
   "id": "27557d41-8fc8-492e-9ca6-b1d7706a04aa",
   "metadata": {
    "tags": []
   },
   "outputs": [
    {
     "name": "stdout",
     "output_type": "stream",
     "text": [
      "{\"contract\":{\"timeout\":1684937880000,\"timeout_continuation\":\"close\",\"when\":[{\"case\":{\"deposits\":10000000,\"into_account\":{\"address\":\"addr_test1vrztl2rnzc47vt3llpzgh73lut3q3q3cer49qp9agsntaqgdxlyaw\"},\"of_token\":{\"currency_symbol\":\"\",\"token_name\":\"\"},\"party\":{\"address\":\"addr_test1vp28qhdavped0rwr24ww8fmstr727a5ln7vrshlvq7cl3zgn0uaxs\"}},\"then\":{\"timeout\":1685024580000,\"timeout_continuation\":\"close\",\"when\":[{\"case\":{\"choose_between\":[{\"from\":1,\"to\":1}],\"for_choice\":{\"choice_name\":\"Release\",\"choice_owner\":{\"address\":\"addr_test1vp28qhdavped0rwr24ww8fmstr727a5ln7vrshlvq7cl3zgn0uaxs\"}}},\"then\":{\"timeout\":1685111280000,\"timeout_continuation\":\"close\",\"when\":[{\"case\":{\"notify_if\":true},\"then\":\"close\"}]}}]}}]},\"metadata\":{},\"minUTxODeposit\":2000000,\"roles\":null,\"tags\":{},\"version\":\"v1\"}\n"
     ]
    }
   ],
   "source": [
    "yaml2json << EOI > request-1.json\n",
    "version: v1\n",
    "contract: `cat contract.json`\n",
    "roles: null\n",
    "minUTxODeposit: 2000000\n",
    "metadata: {}\n",
    "tags: {}\n",
    "EOI\n",
    "\n",
    "cat request-1.json"
   ]
  },
  {
   "cell_type": "markdown",
   "id": "6626a211-a573-4a1b-8358-a0786e48e9dd",
   "metadata": {},
   "source": [
    "### Call endpoint to build creation transaction"
   ]
  },
  {
   "cell_type": "code",
   "execution_count": 9,
   "id": "3fa52d5c-2435-40ff-962e-6fbc07d07b91",
   "metadata": {
    "tags": []
   },
   "outputs": [
    {
     "name": "stdout",
     "output_type": "stream",
     "text": [
      "links:\n",
      "  contract: contracts/3c2a96dc4139f528ac9b1867cdf577c54c87ae398d4686b4a4ecc6391b3c3329%231\n",
      "resource:\n",
      "  contractId: 3c2a96dc4139f528ac9b1867cdf577c54c87ae398d4686b4a4ecc6391b3c3329#1\n",
      "  txBody:\n",
      "    cborHex: 86a40081825820012be528c8f2d28e3f7610533909a7b5a4cae5a4d02420da65d45049568bae04000182a200581d6054705dbd6072d78dc3555ce3a77058fcaf769f9f98385fec07b1f889011a0ba90d36a300581d702ed2631dbb277c84334453c5c437b86325d371f0835a28b910a91a6e011a001e84800282005820a10bfb9106a6faf7ba77592d438bda4bd019cd33aa71fd954f0a9853a5bdd831021a0002d5e50b582067aa14f520459dae714839cd931c1627ac8965c515ab0002a4f59b42cb9145019fff81d8799fd8799f40ffd8799fa1d8799fd8799fd87980d8799fd8799f581c54705dbd6072d78dc3555ce3a77058fcaf769f9f98385fec07b1f889ffd87a80ffffd8799f4040ffff1a001e8480a0a000ffd87c9f9fd8799fd8799fd8799fd87980d8799fd8799f581cc4bfa873162be62e3ff8448bfa3fe2e2088238c8ea5004bd4426be81ffd87a80ffffd8799fd87980d8799fd8799f581c54705dbd6072d78dc3555ce3a77058fcaf769f9f98385fec07b1f889ffd87a80ffffd8799f4040ffd87a9f1a00989680ffffd87c9f9fd8799fd87a9fd8799f4752656c65617365d8799fd87980d8799fd8799f581c54705dbd6072d78dc3555ce3a77058fcaf769f9f98385fec07b1f889ffd87a80ffffff9fd8799f0101ffffffd87c9f9fd8799fd87b9fd9050280ffd87980ffff1b0000018858759180d87980ffffff1b00000188534aa1a0d87980ffffff1b000001884e1fb1c0d87980ffff80f5f6\n",
      "    description: ''\n",
      "    type: TxBodyBabbage\n"
     ]
    }
   ],
   "source": [
    "curl \"$MARLOWE_RT_WEBSERVER_URL/contracts\" \\\n",
    "  -X POST \\\n",
    "  -H 'Content-Type: application/json' \\\n",
    "  -H 'X-Change-Address: addr_test1vp28qhdavped0rwr24ww8fmstr727a5ln7vrshlvq7cl3zgn0uaxs' \\\n",
    "  -d @request-1.json \\\n",
    "  -o response-1.json \\\n",
    "  -sS\n",
    "\n",
    "json2yaml response-1.json"
   ]
  },
  {
   "cell_type": "markdown",
   "id": "c96fedb8-6258-452b-bab5-204f2619204f",
   "metadata": {},
   "source": [
    "### Find contract ID"
   ]
  },
  {
   "cell_type": "code",
   "execution_count": 10,
   "id": "e7626210-875d-41a0-aa83-ae0b5291ecf9",
   "metadata": {
    "tags": []
   },
   "outputs": [
    {
     "name": "stdout",
     "output_type": "stream",
     "text": [
      "CONTRACT_ID = 3c2a96dc4139f528ac9b1867cdf577c54c87ae398d4686b4a4ecc6391b3c3329#1\n"
     ]
    }
   ],
   "source": [
    "CONTRACT_ID=\"$(jq -r '.resource.contractId' response-1.json)\"\n",
    "echo \"CONTRACT_ID = $CONTRACT_ID\""
   ]
  },
  {
   "cell_type": "markdown",
   "id": "ac186582-469a-4a9e-a734-acab1b52f9ba",
   "metadata": {},
   "source": [
    "### Find contract endpoint"
   ]
  },
  {
   "cell_type": "code",
   "execution_count": 11,
   "id": "923e52c2-36a0-4fc0-8379-7f8c6db16b83",
   "metadata": {
    "tags": []
   },
   "outputs": [
    {
     "name": "stdout",
     "output_type": "stream",
     "text": [
      "CONTRACT_URL = http://192.168.0.12:13780/contracts/3c2a96dc4139f528ac9b1867cdf577c54c87ae398d4686b4a4ecc6391b3c3329%231\n"
     ]
    }
   ],
   "source": [
    "CONTRACT_URL=\"$MARLOWE_RT_WEBSERVER_URL/$(jq -r '.links.contract' response-1.json)\"\n",
    "echo \"CONTRACT_URL = $CONTRACT_URL\""
   ]
  },
  {
   "cell_type": "markdown",
   "id": "9071cbba-c7fb-4cea-863c-55b71ecc978a",
   "metadata": {},
   "source": [
    "### Extract unsigned transaction body"
   ]
  },
  {
   "cell_type": "code",
   "execution_count": 12,
   "id": "eafff9ed-8e8e-4728-99d1-ed024a45a24b",
   "metadata": {
    "tags": []
   },
   "outputs": [
    {
     "name": "stdout",
     "output_type": "stream",
     "text": [
      "{\n",
      "  \"cborHex\": \"86a40081825820012be528c8f2d28e3f7610533909a7b5a4cae5a4d02420da65d45049568bae04000182a200581d6054705dbd6072d78dc3555ce3a77058fcaf769f9f98385fec07b1f889011a0ba90d36a300581d702ed2631dbb277c84334453c5c437b86325d371f0835a28b910a91a6e011a001e84800282005820a10bfb9106a6faf7ba77592d438bda4bd019cd33aa71fd954f0a9853a5bdd831021a0002d5e50b582067aa14f520459dae714839cd931c1627ac8965c515ab0002a4f59b42cb9145019fff81d8799fd8799f40ffd8799fa1d8799fd8799fd87980d8799fd8799f581c54705dbd6072d78dc3555ce3a77058fcaf769f9f98385fec07b1f889ffd87a80ffffd8799f4040ffff1a001e8480a0a000ffd87c9f9fd8799fd8799fd8799fd87980d8799fd8799f581cc4bfa873162be62e3ff8448bfa3fe2e2088238c8ea5004bd4426be81ffd87a80ffffd8799fd87980d8799fd8799f581c54705dbd6072d78dc3555ce3a77058fcaf769f9f98385fec07b1f889ffd87a80ffffd8799f4040ffd87a9f1a00989680ffffd87c9f9fd8799fd87a9fd8799f4752656c65617365d8799fd87980d8799fd8799f581c54705dbd6072d78dc3555ce3a77058fcaf769f9f98385fec07b1f889ffd87a80ffffff9fd8799f0101ffffffd87c9f9fd8799fd87b9fd9050280ffd87980ffff1b0000018858759180d87980ffffff1b00000188534aa1a0d87980ffffff1b000001884e1fb1c0d87980ffff80f5f6\",\n",
      "  \"description\": \"\",\n",
      "  \"type\": \"TxBodyBabbage\"\n",
      "}\n"
     ]
    }
   ],
   "source": [
    "jq '.resource.txBody' response-1.json > tx-1.unsigned\n",
    "\n",
    "cat tx-1.unsigned"
   ]
  },
  {
   "cell_type": "markdown",
   "id": "4a627a4c-af07-4903-a056-dc0cf6179446",
   "metadata": {},
   "source": [
    "### Prepare signing request"
   ]
  },
  {
   "cell_type": "code",
   "execution_count": 13,
   "id": "79ef23aa-3c87-4ee5-b7c5-d1402838ea92",
   "metadata": {
    "tags": []
   },
   "outputs": [
    {
     "name": "stdout",
     "output_type": "stream",
     "text": [
      "{\"body\":{\"cborHex\":\"86a40081825820012be528c8f2d28e3f7610533909a7b5a4cae5a4d02420da65d45049568bae04000182a200581d6054705dbd6072d78dc3555ce3a77058fcaf769f9f98385fec07b1f889011a0ba90d36a300581d702ed2631dbb277c84334453c5c437b86325d371f0835a28b910a91a6e011a001e84800282005820a10bfb9106a6faf7ba77592d438bda4bd019cd33aa71fd954f0a9853a5bdd831021a0002d5e50b582067aa14f520459dae714839cd931c1627ac8965c515ab0002a4f59b42cb9145019fff81d8799fd8799f40ffd8799fa1d8799fd8799fd87980d8799fd8799f581c54705dbd6072d78dc3555ce3a77058fcaf769f9f98385fec07b1f889ffd87a80ffffd8799f4040ffff1a001e8480a0a000ffd87c9f9fd8799fd8799fd8799fd87980d8799fd8799f581cc4bfa873162be62e3ff8448bfa3fe2e2088238c8ea5004bd4426be81ffd87a80ffffd8799fd87980d8799fd8799f581c54705dbd6072d78dc3555ce3a77058fcaf769f9f98385fec07b1f889ffd87a80ffffd8799f4040ffd87a9f1a00989680ffffd87c9f9fd8799fd87a9fd8799f4752656c65617365d8799fd87980d8799fd8799f581c54705dbd6072d78dc3555ce3a77058fcaf769f9f98385fec07b1f889ffd87a80ffffff9fd8799f0101ffffffd87c9f9fd8799fd87b9fd9050280ffd87980ffff1b0000018858759180d87980ffffff1b00000188534aa1a0d87980ffffff1b000001884e1fb1c0d87980ffff80f5f6\",\"description\":\"\",\"type\":\"TxBodyBabbage\"},\"paymentExtendedKeys\":[],\"paymentKeys\":[{\"cborHex\":\"5820bb921c6af621b3336460e6df335d73d4d91012718240bb95dd0301fd9aa5b5e6\",\"description\":\"Payment Signing Key\",\"type\":\"PaymentSigningKeyShelley_ed25519\"}]}\n"
     ]
    }
   ],
   "source": [
    "yaml2json << EOI > signing-request-1.json\n",
    "body: $(cat tx-1.unsigned)\n",
    "paymentKeys: [$(cat party.skey)]\n",
    "paymentExtendedKeys: []\n",
    "EOI\n",
    "\n",
    "cat signing-request-1.json"
   ]
  },
  {
   "cell_type": "markdown",
   "id": "0230521e-f187-4a32-8f3a-b73cb9a68ffa",
   "metadata": {},
   "source": [
    "### Call endpoint to sign transaction"
   ]
  },
  {
   "cell_type": "code",
   "execution_count": 14,
   "id": "846dcab4-875c-49bc-913f-b39845c2617d",
   "metadata": {
    "tags": []
   },
   "outputs": [
    {
     "name": "stdout",
     "output_type": "stream",
     "text": [
      "tx:\n",
      "  cborHex: 84a40081825820012be528c8f2d28e3f7610533909a7b5a4cae5a4d02420da65d45049568bae04000182a200581d6054705dbd6072d78dc3555ce3a77058fcaf769f9f98385fec07b1f889011a0ba90d36a300581d702ed2631dbb277c84334453c5c437b86325d371f0835a28b910a91a6e011a001e84800282005820a10bfb9106a6faf7ba77592d438bda4bd019cd33aa71fd954f0a9853a5bdd831021a0002d5e50b582067aa14f520459dae714839cd931c1627ac8965c515ab0002a4f59b42cb914501a20081825820ae56efbd10931edd0bcc4c1f929ab9c8d30fe15a58ea4df515aa281d1479a21c5840c145c64472c6349e34099eb39d77613a2d4ecc69bc18eaf0f7adec352992d1257f46e386d35b9314a396a0c6beff7f56481dac6b045b26ea917519a7722d2d0e0481d8799fd8799f40ffd8799fa1d8799fd8799fd87980d8799fd8799f581c54705dbd6072d78dc3555ce3a77058fcaf769f9f98385fec07b1f889ffd87a80ffffd8799f4040ffff1a001e8480a0a000ffd87c9f9fd8799fd8799fd8799fd87980d8799fd8799f581cc4bfa873162be62e3ff8448bfa3fe2e2088238c8ea5004bd4426be81ffd87a80ffffd8799fd87980d8799fd8799f581c54705dbd6072d78dc3555ce3a77058fcaf769f9f98385fec07b1f889ffd87a80ffffd8799f4040ffd87a9f1a00989680ffffd87c9f9fd8799fd87a9fd8799f4752656c65617365d8799fd87980d8799fd8799f581c54705dbd6072d78dc3555ce3a77058fcaf769f9f98385fec07b1f889ffd87a80ffffff9fd8799f0101ffffffd87c9f9fd8799fd87b9fd9050280ffd87980ffff1b0000018858759180d87980ffffff1b00000188534aa1a0d87980ffffff1b000001884e1fb1c0d87980fffff5f6\n",
      "  description: ''\n",
      "  type: Tx BabbageEra\n",
      "txId: 3c2a96dc4139f528ac9b1867cdf577c54c87ae398d4686b4a4ecc6391b3c3329\n"
     ]
    }
   ],
   "source": [
    "curl -sS \\\n",
    "  -H 'Content-Type: application/json' \\\n",
    "  -H 'Accept: application/json' \\\n",
    "  -d @signing-request-1.json \\\n",
    "  -o signing-response-1.json \\\n",
    "  $SIGNING_SERVICE_URL/sign\n",
    "  \n",
    "json2yaml signing-response-1.json"
   ]
  },
  {
   "cell_type": "markdown",
   "id": "344bc7b0-a34e-4a1b-b139-5d75c370f32a",
   "metadata": {},
   "source": [
    "### Extract the text envelope for the signed transaction"
   ]
  },
  {
   "cell_type": "code",
   "execution_count": 15,
   "id": "8e652bc1-229b-41b3-9f91-a04cee75b72a",
   "metadata": {
    "tags": []
   },
   "outputs": [],
   "source": [
    "jq '.tx' signing-response-1.json > tx-1.signed"
   ]
  },
  {
   "cell_type": "markdown",
   "id": "450d4dcf-bed8-41d5-9d07-83660583a80f",
   "metadata": {},
   "source": [
    "### Call the endpoint to submit the transaction"
   ]
  },
  {
   "cell_type": "code",
   "execution_count": 16,
   "id": "26e53037-d6b2-4f60-b192-91e4ac74ea21",
   "metadata": {
    "tags": []
   },
   "outputs": [],
   "source": [
    "curl -sS \\\n",
    "  -X PUT \\\n",
    "  -H 'Content-Type: application/json' \\\n",
    "  -d @tx-1.signed \\\n",
    "  $CONTRACT_URL"
   ]
  },
  {
   "cell_type": "markdown",
   "id": "246164f1-fa5f-4eab-88ff-e617cfaf5dea",
   "metadata": {},
   "source": [
    "### Poll to see if the transaction has been confirmed"
   ]
  },
  {
   "cell_type": "code",
   "execution_count": 17,
   "id": "73307cb1-82b2-47fb-a3b6-7e0df8cd81bb",
   "metadata": {
    "tags": []
   },
   "outputs": [
    {
     "name": "stdout",
     "output_type": "stream",
     "text": [
      "submitted\n"
     ]
    }
   ],
   "source": [
    "curl -sS \\\n",
    "  -H 'Accept: application/json' \\\n",
    "  -o status-1.json \\\n",
    "  $CONTRACT_URL\n",
    "  \n",
    "jq -r '.resource.status' status-1.json"
   ]
  },
  {
   "cell_type": "markdown",
   "id": "895b32b9-7c6d-447a-bac6-20a5b21c1b22",
   "metadata": {},
   "source": [
    "Wait a little while and then try again."
   ]
  },
  {
   "cell_type": "code",
   "execution_count": 23,
   "id": "fb120774-f71b-4052-85ca-ed27c23762df",
   "metadata": {
    "tags": []
   },
   "outputs": [
    {
     "name": "stdout",
     "output_type": "stream",
     "text": [
      "confirmed\n"
     ]
    }
   ],
   "source": [
    "curl -sS \\\n",
    "  -H 'Accept: application/json' \\\n",
    "  -o status-1.json \\\n",
    "  $CONTRACT_URL\n",
    "  \n",
    "jq -r '.resource.status' status-1.json"
   ]
  }
 ],
 "metadata": {
  "kernelspec": {
   "display_name": "Bash with Marlowe Tools",
   "language": "bash",
   "name": "bash-minimal"
  },
  "language_info": {
   "codemirror_mode": "shell",
   "file_extension": ".sh",
   "mimetype": "text/x-sh",
   "name": "bash"
  }
 },
 "nbformat": 4,
 "nbformat_minor": 5
}
