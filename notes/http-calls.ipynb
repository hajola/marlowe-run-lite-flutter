{
 "cells": [
  {
   "cell_type": "markdown",
   "id": "d1e9ad00-fa79-4020-a87b-1ec33e27863e",
   "metadata": {},
   "source": [
    "## Endpoints"
   ]
  },
  {
   "cell_type": "code",
   "execution_count": 1,
   "id": "3090e518-ddf3-4e5f-91c4-ecfc5b1e462f",
   "metadata": {
    "tags": []
   },
   "outputs": [],
   "source": [
    "MARLOWE_RT_WEBSERVER_URL=http://192.168.0.12:13780"
   ]
  },
  {
   "cell_type": "code",
   "execution_count": 2,
   "id": "4924ad7a-5ba0-4745-b027-e351f801970a",
   "metadata": {
    "tags": []
   },
   "outputs": [],
   "source": [
    "SIGNING_SERVICE_URL=http://192.168.0.12:13779"
   ]
  },
  {
   "cell_type": "markdown",
   "id": "82744238-f15e-4b1a-8e93-7bdfcb5b2262",
   "metadata": {},
   "source": [
    "## Addresses and keys"
   ]
  },
  {
   "cell_type": "markdown",
   "id": "6fb2bb58-d1e7-4cbd-ace4-e48f1d6c499c",
   "metadata": {
    "tags": []
   },
   "source": [
    "### Party"
   ]
  },
  {
   "cell_type": "code",
   "execution_count": 3,
   "id": "62df7144-f8ed-4c8b-98f2-3ed69d0b9a2e",
   "metadata": {
    "tags": []
   },
   "outputs": [
    {
     "name": "stdout",
     "output_type": "stream",
     "text": [
      "addr_test1vp28qhdavped0rwr24ww8fmstr727a5ln7vrshlvq7cl3zgn0uaxs"
     ]
    }
   ],
   "source": [
    "cat party.testnet.address"
   ]
  },
  {
   "cell_type": "code",
   "execution_count": 4,
   "id": "e144fab3-2d2d-4cec-810a-4c5e2038586b",
   "metadata": {
    "tags": []
   },
   "outputs": [
    {
     "name": "stdout",
     "output_type": "stream",
     "text": [
      "{\n",
      "    \"type\": \"PaymentSigningKeyShelley_ed25519\",\n",
      "    \"description\": \"Payment Signing Key\",\n",
      "    \"cborHex\": \"5820bb921c6af621b3336460e6df335d73d4d91012718240bb95dd0301fd9aa5b5e6\"\n",
      "}\n"
     ]
    }
   ],
   "source": [
    "cat party.skey"
   ]
  },
  {
   "cell_type": "markdown",
   "id": "61d579e7-ec23-45e9-b331-33b194a75810",
   "metadata": {},
   "source": [
    "### Counterparty"
   ]
  },
  {
   "cell_type": "code",
   "execution_count": 5,
   "id": "defcb047-a730-4e9c-9b91-b318ad8b1963",
   "metadata": {
    "tags": []
   },
   "outputs": [
    {
     "name": "stdout",
     "output_type": "stream",
     "text": [
      "addr_test1vrztl2rnzc47vt3llpzgh73lut3q3q3cer49qp9agsntaqgdxlyaw"
     ]
    }
   ],
   "source": [
    "cat counterparty.testnet.address"
   ]
  },
  {
   "cell_type": "markdown",
   "id": "67e371f0-f0e0-42bd-a47f-7e9485b0d5ba",
   "metadata": {},
   "source": [
    "## Contract"
   ]
  },
  {
   "cell_type": "code",
   "execution_count": 6,
   "id": "69b835f6-b88b-41ae-a394-364bc292a038",
   "metadata": {
    "tags": []
   },
   "outputs": [
    {
     "name": "stdout",
     "output_type": "stream",
     "text": [
      "{\"when\":[{\"then\":{\"when\":[{\"then\":{\"when\":[{\"then\":\"close\",\"case\":{\"notify_if\":true}}],\"timeout_continuation\":\"close\",\"timeout\":1685111280000},\"case\":{\"for_choice\":{\"choice_owner\":{\"address\":\"addr_test1vp28qhdavped0rwr24ww8fmstr727a5ln7vrshlvq7cl3zgn0uaxs\"},\"choice_name\":\"Release\"},\"choose_between\":[{\"to\":1,\"from\":1}]}}],\"timeout_continuation\":\"close\",\"timeout\":1685024580000},\"case\":{\"party\":{\"address\":\"addr_test1vp28qhdavped0rwr24ww8fmstr727a5ln7vrshlvq7cl3zgn0uaxs\"},\"of_token\":{\"token_name\":\"\",\"currency_symbol\":\"\"},\"into_account\":{\"address\":\"addr_test1vrztl2rnzc47vt3llpzgh73lut3q3q3cer49qp9agsntaqgdxlyaw\"},\"deposits\":10000000}}],\"timeout_continuation\":\"close\",\"timeout\":1684937880000}\n"
     ]
    }
   ],
   "source": [
    "cat contract.json"
   ]
  },
  {
   "cell_type": "code",
   "execution_count": 7,
   "id": "b94d08da-4d06-4ba7-906a-3f17dfed2fb6",
   "metadata": {
    "tags": []
   },
   "outputs": [
    {
     "name": "stdout",
     "output_type": "stream",
     "text": [
      "timeout: 1684937880000\n",
      "timeout_continuation: close\n",
      "when:\n",
      "- case:\n",
      "    deposits: 10000000\n",
      "    into_account:\n",
      "      address: addr_test1vrztl2rnzc47vt3llpzgh73lut3q3q3cer49qp9agsntaqgdxlyaw\n",
      "    of_token:\n",
      "      currency_symbol: ''\n",
      "      token_name: ''\n",
      "    party:\n",
      "      address: addr_test1vp28qhdavped0rwr24ww8fmstr727a5ln7vrshlvq7cl3zgn0uaxs\n",
      "  then:\n",
      "    timeout: 1685024580000\n",
      "    timeout_continuation: close\n",
      "    when:\n",
      "    - case:\n",
      "        choose_between:\n",
      "        - from: 1\n",
      "          to: 1\n",
      "        for_choice:\n",
      "          choice_name: Release\n",
      "          choice_owner:\n",
      "            address: addr_test1vp28qhdavped0rwr24ww8fmstr727a5ln7vrshlvq7cl3zgn0uaxs\n",
      "      then:\n",
      "        timeout: 1685111280000\n",
      "        timeout_continuation: close\n",
      "        when:\n",
      "        - case:\n",
      "            notify_if: true\n",
      "          then: close\n"
     ]
    }
   ],
   "source": [
    "json2yaml contract.json"
   ]
  },
  {
   "cell_type": "markdown",
   "id": "8ec59b8d-885e-4f9c-91a3-4a39547aebfb",
   "metadata": {},
   "source": [
    "## Transaction 1. Create"
   ]
  },
  {
   "cell_type": "markdown",
   "id": "861bf2ec-3b32-477b-8739-70c6218d7f8f",
   "metadata": {},
   "source": [
    "### Prepare creation request"
   ]
  },
  {
   "cell_type": "code",
   "execution_count": 8,
   "id": "27557d41-8fc8-492e-9ca6-b1d7706a04aa",
   "metadata": {
    "tags": []
   },
   "outputs": [
    {
     "name": "stdout",
     "output_type": "stream",
     "text": [
      "{\"contract\":{\"timeout\":1684937880000,\"timeout_continuation\":\"close\",\"when\":[{\"case\":{\"deposits\":10000000,\"into_account\":{\"address\":\"addr_test1vrztl2rnzc47vt3llpzgh73lut3q3q3cer49qp9agsntaqgdxlyaw\"},\"of_token\":{\"currency_symbol\":\"\",\"token_name\":\"\"},\"party\":{\"address\":\"addr_test1vp28qhdavped0rwr24ww8fmstr727a5ln7vrshlvq7cl3zgn0uaxs\"}},\"then\":{\"timeout\":1685024580000,\"timeout_continuation\":\"close\",\"when\":[{\"case\":{\"choose_between\":[{\"from\":1,\"to\":1}],\"for_choice\":{\"choice_name\":\"Release\",\"choice_owner\":{\"address\":\"addr_test1vp28qhdavped0rwr24ww8fmstr727a5ln7vrshlvq7cl3zgn0uaxs\"}}},\"then\":{\"timeout\":1685111280000,\"timeout_continuation\":\"close\",\"when\":[{\"case\":{\"notify_if\":true},\"then\":\"close\"}]}}]}}]},\"metadata\":{},\"minUTxODeposit\":2000000,\"roles\":null,\"tags\":{},\"version\":\"v1\"}\n"
     ]
    }
   ],
   "source": [
    "yaml2json << EOI > request-1.json\n",
    "version: v1\n",
    "contract: `cat contract.json`\n",
    "roles: null\n",
    "minUTxODeposit: 2000000\n",
    "metadata: {}\n",
    "tags: {}\n",
    "EOI\n",
    "\n",
    "cat request-1.json"
   ]
  },
  {
   "cell_type": "markdown",
   "id": "6626a211-a573-4a1b-8358-a0786e48e9dd",
   "metadata": {},
   "source": [
    "### Call endpoint to build creation transaction"
   ]
  },
  {
   "cell_type": "code",
   "execution_count": 9,
   "id": "3fa52d5c-2435-40ff-962e-6fbc07d07b91",
   "metadata": {
    "tags": []
   },
   "outputs": [
    {
     "name": "stdout",
     "output_type": "stream",
     "text": [
      "links:\n",
      "  contract: contracts/3c2a96dc4139f528ac9b1867cdf577c54c87ae398d4686b4a4ecc6391b3c3329%231\n",
      "resource:\n",
      "  contractId: 3c2a96dc4139f528ac9b1867cdf577c54c87ae398d4686b4a4ecc6391b3c3329#1\n",
      "  txBody:\n",
      "    cborHex: 86a40081825820012be528c8f2d28e3f7610533909a7b5a4cae5a4d02420da65d45049568bae04000182a200581d6054705dbd6072d78dc3555ce3a77058fcaf769f9f98385fec07b1f889011a0ba90d36a300581d702ed2631dbb277c84334453c5c437b86325d371f0835a28b910a91a6e011a001e84800282005820a10bfb9106a6faf7ba77592d438bda4bd019cd33aa71fd954f0a9853a5bdd831021a0002d5e50b582067aa14f520459dae714839cd931c1627ac8965c515ab0002a4f59b42cb9145019fff81d8799fd8799f40ffd8799fa1d8799fd8799fd87980d8799fd8799f581c54705dbd6072d78dc3555ce3a77058fcaf769f9f98385fec07b1f889ffd87a80ffffd8799f4040ffff1a001e8480a0a000ffd87c9f9fd8799fd8799fd8799fd87980d8799fd8799f581cc4bfa873162be62e3ff8448bfa3fe2e2088238c8ea5004bd4426be81ffd87a80ffffd8799fd87980d8799fd8799f581c54705dbd6072d78dc3555ce3a77058fcaf769f9f98385fec07b1f889ffd87a80ffffd8799f4040ffd87a9f1a00989680ffffd87c9f9fd8799fd87a9fd8799f4752656c65617365d8799fd87980d8799fd8799f581c54705dbd6072d78dc3555ce3a77058fcaf769f9f98385fec07b1f889ffd87a80ffffff9fd8799f0101ffffffd87c9f9fd8799fd87b9fd9050280ffd87980ffff1b0000018858759180d87980ffffff1b00000188534aa1a0d87980ffffff1b000001884e1fb1c0d87980ffff80f5f6\n",
      "    description: ''\n",
      "    type: TxBodyBabbage\n"
     ]
    }
   ],
   "source": [
    "curl \"$MARLOWE_RT_WEBSERVER_URL/contracts\" \\\n",
    "  -X POST \\\n",
    "  -H 'Content-Type: application/json' \\\n",
    "  -H 'X-Change-Address: addr_test1vp28qhdavped0rwr24ww8fmstr727a5ln7vrshlvq7cl3zgn0uaxs' \\\n",
    "  -d @request-1.json \\\n",
    "  -o response-1.json \\\n",
    "  -sS\n",
    "\n",
    "json2yaml response-1.json"
   ]
  },
  {
   "cell_type": "markdown",
   "id": "c96fedb8-6258-452b-bab5-204f2619204f",
   "metadata": {},
   "source": [
    "### Find contract ID"
   ]
  },
  {
   "cell_type": "code",
   "execution_count": 10,
   "id": "e7626210-875d-41a0-aa83-ae0b5291ecf9",
   "metadata": {
    "tags": []
   },
   "outputs": [
    {
     "name": "stdout",
     "output_type": "stream",
     "text": [
      "CONTRACT_ID = 3c2a96dc4139f528ac9b1867cdf577c54c87ae398d4686b4a4ecc6391b3c3329#1\n"
     ]
    }
   ],
   "source": [
    "CONTRACT_ID=\"$(jq -r '.resource.contractId' response-1.json)\"\n",
    "echo \"CONTRACT_ID = $CONTRACT_ID\""
   ]
  },
  {
   "cell_type": "markdown",
   "id": "ac186582-469a-4a9e-a734-acab1b52f9ba",
   "metadata": {},
   "source": [
    "### Find contract endpoint"
   ]
  },
  {
   "cell_type": "code",
   "execution_count": 11,
   "id": "923e52c2-36a0-4fc0-8379-7f8c6db16b83",
   "metadata": {
    "tags": []
   },
   "outputs": [
    {
     "name": "stdout",
     "output_type": "stream",
     "text": [
      "CONTRACT_URL = http://192.168.0.12:13780/contracts/3c2a96dc4139f528ac9b1867cdf577c54c87ae398d4686b4a4ecc6391b3c3329%231\n"
     ]
    }
   ],
   "source": [
    "CONTRACT_URL=\"$MARLOWE_RT_WEBSERVER_URL/1jq -r '.links.contract' response-1.json`\"\n",
    "echo \"CONTRACT_URL = $CONTRACT_URL\""
   ]
  },
  {
   "cell_type": "markdown",
   "id": "9071cbba-c7fb-4cea-863c-55b71ecc978a",
   "metadata": {},
   "source": [
    "### Extract unsigned transaction body"
   ]
  },
  {
   "cell_type": "code",
   "execution_count": 12,
   "id": "eafff9ed-8e8e-4728-99d1-ed024a45a24b",
   "metadata": {
    "tags": []
   },
   "outputs": [
    {
     "name": "stdout",
     "output_type": "stream",
     "text": [
      "{\n",
      "  \"cborHex\": \"86a40081825820012be528c8f2d28e3f7610533909a7b5a4cae5a4d02420da65d45049568bae04000182a200581d6054705dbd6072d78dc3555ce3a77058fcaf769f9f98385fec07b1f889011a0ba90d36a300581d702ed2631dbb277c84334453c5c437b86325d371f0835a28b910a91a6e011a001e84800282005820a10bfb9106a6faf7ba77592d438bda4bd019cd33aa71fd954f0a9853a5bdd831021a0002d5e50b582067aa14f520459dae714839cd931c1627ac8965c515ab0002a4f59b42cb9145019fff81d8799fd8799f40ffd8799fa1d8799fd8799fd87980d8799fd8799f581c54705dbd6072d78dc3555ce3a77058fcaf769f9f98385fec07b1f889ffd87a80ffffd8799f4040ffff1a001e8480a0a000ffd87c9f9fd8799fd8799fd8799fd87980d8799fd8799f581cc4bfa873162be62e3ff8448bfa3fe2e2088238c8ea5004bd4426be81ffd87a80ffffd8799fd87980d8799fd8799f581c54705dbd6072d78dc3555ce3a77058fcaf769f9f98385fec07b1f889ffd87a80ffffd8799f4040ffd87a9f1a00989680ffffd87c9f9fd8799fd87a9fd8799f4752656c65617365d8799fd87980d8799fd8799f581c54705dbd6072d78dc3555ce3a77058fcaf769f9f98385fec07b1f889ffd87a80ffffff9fd8799f0101ffffffd87c9f9fd8799fd87b9fd9050280ffd87980ffff1b0000018858759180d87980ffffff1b00000188534aa1a0d87980ffffff1b000001884e1fb1c0d87980ffff80f5f6\",\n",
      "  \"description\": \"\",\n",
      "  \"type\": \"TxBodyBabbage\"\n",
      "}\n"
     ]
    }
   ],
   "source": [
    "jq '.resource.txBody' response-1.json > tx-1.unsigned\n",
    "\n",
    "cat tx-1.unsigned"
   ]
  },
  {
   "cell_type": "markdown",
   "id": "4a627a4c-af07-4903-a056-dc0cf6179446",
   "metadata": {},
   "source": [
    "### Prepare signing request"
   ]
  },
  {
   "cell_type": "code",
   "execution_count": 13,
   "id": "79ef23aa-3c87-4ee5-b7c5-d1402838ea92",
   "metadata": {
    "tags": []
   },
   "outputs": [
    {
     "name": "stdout",
     "output_type": "stream",
     "text": [
      "{\"body\":{\"cborHex\":\"86a40081825820012be528c8f2d28e3f7610533909a7b5a4cae5a4d02420da65d45049568bae04000182a200581d6054705dbd6072d78dc3555ce3a77058fcaf769f9f98385fec07b1f889011a0ba90d36a300581d702ed2631dbb277c84334453c5c437b86325d371f0835a28b910a91a6e011a001e84800282005820a10bfb9106a6faf7ba77592d438bda4bd019cd33aa71fd954f0a9853a5bdd831021a0002d5e50b582067aa14f520459dae714839cd931c1627ac8965c515ab0002a4f59b42cb9145019fff81d8799fd8799f40ffd8799fa1d8799fd8799fd87980d8799fd8799f581c54705dbd6072d78dc3555ce3a77058fcaf769f9f98385fec07b1f889ffd87a80ffffd8799f4040ffff1a001e8480a0a000ffd87c9f9fd8799fd8799fd8799fd87980d8799fd8799f581cc4bfa873162be62e3ff8448bfa3fe2e2088238c8ea5004bd4426be81ffd87a80ffffd8799fd87980d8799fd8799f581c54705dbd6072d78dc3555ce3a77058fcaf769f9f98385fec07b1f889ffd87a80ffffd8799f4040ffd87a9f1a00989680ffffd87c9f9fd8799fd87a9fd8799f4752656c65617365d8799fd87980d8799fd8799f581c54705dbd6072d78dc3555ce3a77058fcaf769f9f98385fec07b1f889ffd87a80ffffff9fd8799f0101ffffffd87c9f9fd8799fd87b9fd9050280ffd87980ffff1b0000018858759180d87980ffffff1b00000188534aa1a0d87980ffffff1b000001884e1fb1c0d87980ffff80f5f6\",\"description\":\"\",\"type\":\"TxBodyBabbage\"},\"paymentExtendedKeys\":[],\"paymentKeys\":[{\"cborHex\":\"5820bb921c6af621b3336460e6df335d73d4d91012718240bb95dd0301fd9aa5b5e6\",\"description\":\"Payment Signing Key\",\"type\":\"PaymentSigningKeyShelley_ed25519\"}]}\n"
     ]
    }
   ],
   "source": [
    "yaml2json << EOI > signing-request-1.json\n",
    "body: $(cat tx-1.unsigned)\n",
    "paymentKeys: [$(cat party.skey)]\n",
    "paymentExtendedKeys: []\n",
    "EOI\n",
    "\n",
    "cat signing-request-1.json"
   ]
  },
  {
   "cell_type": "markdown",
   "id": "0230521e-f187-4a32-8f3a-b73cb9a68ffa",
   "metadata": {},
   "source": [
    "### Call endpoint to sign transaction"
   ]
  },
  {
   "cell_type": "code",
   "execution_count": 14,
   "id": "846dcab4-875c-49bc-913f-b39845c2617d",
   "metadata": {
    "tags": []
   },
   "outputs": [
    {
     "name": "stdout",
     "output_type": "stream",
     "text": [
      "tx:\n",
      "  cborHex: 84a40081825820012be528c8f2d28e3f7610533909a7b5a4cae5a4d02420da65d45049568bae04000182a200581d6054705dbd6072d78dc3555ce3a77058fcaf769f9f98385fec07b1f889011a0ba90d36a300581d702ed2631dbb277c84334453c5c437b86325d371f0835a28b910a91a6e011a001e84800282005820a10bfb9106a6faf7ba77592d438bda4bd019cd33aa71fd954f0a9853a5bdd831021a0002d5e50b582067aa14f520459dae714839cd931c1627ac8965c515ab0002a4f59b42cb914501a20081825820ae56efbd10931edd0bcc4c1f929ab9c8d30fe15a58ea4df515aa281d1479a21c5840c145c64472c6349e34099eb39d77613a2d4ecc69bc18eaf0f7adec352992d1257f46e386d35b9314a396a0c6beff7f56481dac6b045b26ea917519a7722d2d0e0481d8799fd8799f40ffd8799fa1d8799fd8799fd87980d8799fd8799f581c54705dbd6072d78dc3555ce3a77058fcaf769f9f98385fec07b1f889ffd87a80ffffd8799f4040ffff1a001e8480a0a000ffd87c9f9fd8799fd8799fd8799fd87980d8799fd8799f581cc4bfa873162be62e3ff8448bfa3fe2e2088238c8ea5004bd4426be81ffd87a80ffffd8799fd87980d8799fd8799f581c54705dbd6072d78dc3555ce3a77058fcaf769f9f98385fec07b1f889ffd87a80ffffd8799f4040ffd87a9f1a00989680ffffd87c9f9fd8799fd87a9fd8799f4752656c65617365d8799fd87980d8799fd8799f581c54705dbd6072d78dc3555ce3a77058fcaf769f9f98385fec07b1f889ffd87a80ffffff9fd8799f0101ffffffd87c9f9fd8799fd87b9fd9050280ffd87980ffff1b0000018858759180d87980ffffff1b00000188534aa1a0d87980ffffff1b000001884e1fb1c0d87980fffff5f6\n",
      "  description: ''\n",
      "  type: Tx BabbageEra\n",
      "txId: 3c2a96dc4139f528ac9b1867cdf577c54c87ae398d4686b4a4ecc6391b3c3329\n"
     ]
    }
   ],
   "source": [
    "curl -sS \\\n",
    "  -H 'Content-Type: application/json' \\\n",
    "  -H 'Accept: application/json' \\\n",
    "  -d @signing-request-1.json \\\n",
    "  -o signing-response-1.json \\\n",
    "  $SIGNING_SERVICE_URL/sign\n",
    "  \n",
    "json2yaml signing-response-1.json"
   ]
  },
  {
   "cell_type": "markdown",
   "id": "344bc7b0-a34e-4a1b-b139-5d75c370f32a",
   "metadata": {},
   "source": [
    "### Extract the text envelope for the signed transaction"
   ]
  },
  {
   "cell_type": "code",
   "execution_count": 15,
   "id": "8e652bc1-229b-41b3-9f91-a04cee75b72a",
   "metadata": {
    "tags": []
   },
   "outputs": [],
   "source": [
    "jq '.tx' signing-response-1.json > tx-1.signed"
   ]
  },
  {
   "cell_type": "markdown",
   "id": "450d4dcf-bed8-41d5-9d07-83660583a80f",
   "metadata": {},
   "source": [
    "### Call the endpoint to submit the transaction"
   ]
  },
  {
   "cell_type": "code",
   "execution_count": 16,
   "id": "26e53037-d6b2-4f60-b192-91e4ac74ea21",
   "metadata": {
    "tags": []
   },
   "outputs": [],
   "source": [
    "curl -sS \\\n",
    "  -X PUT \\\n",
    "  -H 'Content-Type: application/json' \\\n",
    "  -d @tx-1.signed \\\n",
    "  $CONTRACT_URL"
   ]
  },
  {
   "cell_type": "markdown",
   "id": "246164f1-fa5f-4eab-88ff-e617cfaf5dea",
   "metadata": {},
   "source": [
    "### Poll to see if the transaction has been confirmed"
   ]
  },
  {
   "cell_type": "code",
   "execution_count": 17,
   "id": "73307cb1-82b2-47fb-a3b6-7e0df8cd81bb",
   "metadata": {
    "tags": []
   },
   "outputs": [
    {
     "name": "stdout",
     "output_type": "stream",
     "text": [
      "submitted\n"
     ]
    }
   ],
   "source": [
    "curl -sS \\\n",
    "  -H 'Accept: application/json' \\\n",
    "  -o status-1.json \\\n",
    "  $CONTRACT_URL\n",
    "  \n",
    "jq -r '.resource.status' status-1.json"
   ]
  },
  {
   "cell_type": "markdown",
   "id": "895b32b9-7c6d-447a-bac6-20a5b21c1b22",
   "metadata": {},
   "source": [
    "Wait a little while and then try again."
   ]
  },
  {
   "cell_type": "code",
   "execution_count": 23,
   "id": "fb120774-f71b-4052-85ca-ed27c23762df",
   "metadata": {
    "tags": []
   },
   "outputs": [
    {
     "name": "stdout",
     "output_type": "stream",
     "text": [
      "confirmed\n"
     ]
    }
   ],
   "source": [
    "curl -sS \\\n",
    "  -H 'Accept: application/json' \\\n",
    "  -o status-1.json \\\n",
    "  $CONTRACT_URL\n",
    "  \n",
    "jq -r '.resource.status' status-1.json"
   ]
  },
  {
   "cell_type": "markdown",
   "id": "b4da9252-5467-4c96-88bb-cf0cba7bf008",
   "metadata": {},
   "source": [
    "## Transaction 2. Deposit"
   ]
  },
  {
   "cell_type": "markdown",
   "id": "29d68ebe-9e62-40d0-a609-6d932e691c93",
   "metadata": {},
   "source": [
    "### Prepare deposit request"
   ]
  },
  {
   "cell_type": "code",
   "execution_count": 27,
   "id": "18f93f4c-f31a-4eaf-8ac6-7e1124a51142",
   "metadata": {
    "tags": []
   },
   "outputs": [
    {
     "name": "stdout",
     "output_type": "stream",
     "text": [
      "{\"inputs\":[{\"input_from_party\":{\"address\":\"addr_test1vp28qhdavped0rwr24ww8fmstr727a5ln7vrshlvq7cl3zgn0uaxs\"},\"into_account\":{\"address\":\"addr_test1vrztl2rnzc47vt3llpzgh73lut3q3q3cer49qp9agsntaqgdxlyaw\"},\"of_token\":{\"currency_symbol\":\"\",\"token_name\":\"\"},\"that_deposits\":10000000}],\"metadata\":{},\"tags\":{},\"version\":\"v1\"}\n"
     ]
    }
   ],
   "source": [
    "yaml2json << EOI > request-2.json\n",
    "version: v1\n",
    "inputs:\n",
    "- input_from_party:\n",
    "    address: addr_test1vp28qhdavped0rwr24ww8fmstr727a5ln7vrshlvq7cl3zgn0uaxs\n",
    "  that_deposits: 10000000\n",
    "  of_token:\n",
    "    currency_symbol: ''\n",
    "    token_name: ''\n",
    "  into_account:\n",
    "    address: addr_test1vrztl2rnzc47vt3llpzgh73lut3q3q3cer49qp9agsntaqgdxlyaw\n",
    "metadata: {}\n",
    "tags: {}\n",
    "EOI\n",
    "\n",
    "cat request-2.json"
   ]
  },
  {
   "cell_type": "markdown",
   "id": "bdf79196-8255-4739-a5a1-1a018ff8fed0",
   "metadata": {},
   "source": [
    "### Call endpoint to build deposit transaction"
   ]
  },
  {
   "cell_type": "code",
   "execution_count": 28,
   "id": "8b39738d-fb02-4ab0-9a26-5779d94754b5",
   "metadata": {
    "tags": []
   },
   "outputs": [
    {
     "name": "stdout",
     "output_type": "stream",
     "text": [
      "links:\n",
      "  transaction: contracts/3c2a96dc4139f528ac9b1867cdf577c54c87ae398d4686b4a4ecc6391b3c3329%231/transactions/e17bb66da0f01c21a43dfa1d2aa4ea876f41117f9b1e0724c7df93fb71517691\n",
      "resource:\n",
      "  contractId: 3c2a96dc4139f528ac9b1867cdf577c54c87ae398d4686b4a4ecc6391b3c3329#1\n",
      "  transactionId: e17bb66da0f01c21a43dfa1d2aa4ea876f41117f9b1e0724c7df93fb71517691\n",
      "  txBody:\n",
      "    cborHex: 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\n",
      "    description: ''\n",
      "    type: TxBodyBabbage\n"
     ]
    }
   ],
   "source": [
    "curl \"$CONTRACT_URL/transactions\" \\\n",
    "  -X POST \\\n",
    "  -H 'Content-Type: application/json' \\\n",
    "  -H 'X-Change-Address: addr_test1vp28qhdavped0rwr24ww8fmstr727a5ln7vrshlvq7cl3zgn0uaxs' \\\n",
    "  -d @request-2.json \\\n",
    "  -o response-2.json \\\n",
    "  -sS\n",
    "\n",
    "json2yaml response-2.json"
   ]
  },
  {
   "cell_type": "markdown",
   "id": "10a1d4e8-6501-4a6d-8dbf-247794f8c023",
   "metadata": {},
   "source": [
    "### Find transaction endpoint"
   ]
  },
  {
   "cell_type": "code",
   "execution_count": 29,
   "id": "48b810f6-b77f-47ba-b640-6484f5f9b8ab",
   "metadata": {
    "tags": []
   },
   "outputs": [
    {
     "name": "stdout",
     "output_type": "stream",
     "text": [
      "TRANSACTION_1_URL = http://192.168.0.12:13780/contracts/3c2a96dc4139f528ac9b1867cdf577c54c87ae398d4686b4a4ecc6391b3c3329%231/transactions/e17bb66da0f01c21a43dfa1d2aa4ea876f41117f9b1e0724c7df93fb71517691\n"
     ]
    }
   ],
   "source": [
    "TRANSACTION_1_URL=\"$MARLOWE_RT_WEBSERVER_URL/`jq -r '.links.transaction' response-2.json`\"\n",
    "echo \"TRANSACTION_1_URL = $TRANSACTION_1_URL\""
   ]
  },
  {
   "cell_type": "markdown",
   "id": "4029bea1-371f-4b46-87d4-75b15b08995e",
   "metadata": {},
   "source": [
    "### Extract unsigned transaction body"
   ]
  },
  {
   "cell_type": "code",
   "execution_count": 30,
   "id": "a91ca3cb-843c-4964-b4c6-7d994773efa2",
   "metadata": {
    "tags": []
   },
   "outputs": [
    {
     "name": "stdout",
     "output_type": "stream",
     "text": [
      "{\n",
      "  \"cborHex\": \"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\",\n",
      "  \"description\": \"\",\n",
      "  \"type\": \"TxBodyBabbage\"\n",
      "}\n"
     ]
    }
   ],
   "source": [
    "jq '.resource.txBody' response-2.json > tx-2.unsigned\n",
    "\n",
    "cat tx-2.unsigned"
   ]
  },
  {
   "cell_type": "markdown",
   "id": "0c353e8f-66e7-4f53-99b7-8b448cd54a15",
   "metadata": {},
   "source": [
    "### Prepare signing request"
   ]
  },
  {
   "cell_type": "code",
   "execution_count": 31,
   "id": "7a0bb3c6-eab2-4217-bcda-4b8e6908ef2c",
   "metadata": {
    "tags": []
   },
   "outputs": [
    {
     "name": "stdout",
     "output_type": "stream",
     "text": [
      "{\"body\":{\"cborHex\":\"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\",\"description\":\"\",\"type\":\"TxBodyBabbage\"},\"paymentExtendedKeys\":[],\"paymentKeys\":[{\"cborHex\":\"5820bb921c6af621b3336460e6df335d73d4d91012718240bb95dd0301fd9aa5b5e6\",\"description\":\"Payment Signing Key\",\"type\":\"PaymentSigningKeyShelley_ed25519\"}]}\n"
     ]
    }
   ],
   "source": [
    "yaml2json << EOI > signing-request-2.json\n",
    "body: $(cat tx-2.unsigned)\n",
    "paymentKeys: [$(cat party.skey)]\n",
    "paymentExtendedKeys: []\n",
    "EOI\n",
    "\n",
    "cat signing-request-2.json"
   ]
  },
  {
   "cell_type": "markdown",
   "id": "9cf6ce97-10b5-422e-b80d-6d7c58699d8b",
   "metadata": {},
   "source": [
    "### Call endpoint to sign transaction"
   ]
  },
  {
   "cell_type": "code",
   "execution_count": 32,
   "id": "a7342f75-ba0e-4e2c-8dd9-c4a5db8c50ab",
   "metadata": {
    "tags": []
   },
   "outputs": [
    {
     "name": "stdout",
     "output_type": "stream",
     "text": [
      "tx:\n",
      "  cborHex: 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\n",
      "  description: ''\n",
      "  type: Tx BabbageEra\n",
      "txId: e17bb66da0f01c21a43dfa1d2aa4ea876f41117f9b1e0724c7df93fb71517691\n"
     ]
    }
   ],
   "source": [
    "curl -sS \\\n",
    "  -H 'Content-Type: application/json' \\\n",
    "  -H 'Accept: application/json' \\\n",
    "  -d @signing-request-2.json \\\n",
    "  -o signing-response-2.json \\\n",
    "  $SIGNING_SERVICE_URL/sign\n",
    "  \n",
    "json2yaml signing-response-2.json"
   ]
  },
  {
   "cell_type": "markdown",
   "id": "ecbfd500-f1db-442b-8a4a-dacd5d44de62",
   "metadata": {},
   "source": [
    "### Extract the text envelope for the signed transaction"
   ]
  },
  {
   "cell_type": "code",
   "execution_count": 33,
   "id": "318ea8d6-1bc0-40b6-a092-8d1bab81206b",
   "metadata": {
    "tags": []
   },
   "outputs": [],
   "source": [
    "jq '.tx' signing-response-2.json > tx-2.signed"
   ]
  },
  {
   "cell_type": "markdown",
   "id": "567979f0-3ef3-4159-8028-4d2f75e9dc26",
   "metadata": {},
   "source": [
    "### Call the endpoint to submit the transaction"
   ]
  },
  {
   "cell_type": "code",
   "execution_count": 34,
   "id": "b6fb83f0-07b5-4635-95e3-a4070d7ad3b0",
   "metadata": {
    "tags": []
   },
   "outputs": [],
   "source": [
    "curl -sS \\\n",
    "  -X PUT \\\n",
    "  -H 'Content-Type: application/json' \\\n",
    "  -d @tx-2.signed \\\n",
    "  $TRANSACTION_1_URL"
   ]
  },
  {
   "cell_type": "markdown",
   "id": "b461e6d9-cb7e-492e-9946-6e778a4da63e",
   "metadata": {},
   "source": [
    "### Poll to see if the transaction has been confirmed"
   ]
  },
  {
   "cell_type": "code",
   "execution_count": 35,
   "id": "ccaa328e-ca4c-4f62-8c97-4ccbe63b1df6",
   "metadata": {
    "tags": []
   },
   "outputs": [
    {
     "name": "stdout",
     "output_type": "stream",
     "text": [
      "submitted\n"
     ]
    }
   ],
   "source": [
    "curl -sS \\\n",
    "  -H 'Accept: application/json' \\\n",
    "  -o status-2.json \\\n",
    "  $CONTRACT_URL\n",
    "  \n",
    "jq -r '.resource.status' status-2.json"
   ]
  },
  {
   "cell_type": "markdown",
   "id": "21c568c9-c25b-42e3-84c7-09a6c707c1c9",
   "metadata": {},
   "source": [
    "Wait a little while and then try again."
   ]
  },
  {
   "cell_type": "code",
   "execution_count": 36,
   "id": "dd689b97-2627-4b3b-a03e-c3b96e463d68",
   "metadata": {
    "tags": []
   },
   "outputs": [
    {
     "name": "stdout",
     "output_type": "stream",
     "text": [
      "confirmed\n"
     ]
    }
   ],
   "source": [
    "curl -sS \\\n",
    "  -H 'Accept: application/json' \\\n",
    "  -o status-2.json \\\n",
    "  $CONTRACT_URL\n",
    "  \n",
    "jq -r '.resource.status' status-2.json"
   ]
  },
  {
   "cell_type": "code",
   "execution_count": null,
   "id": "5deec3d1-c560-45f8-a8aa-be447848c139",
   "metadata": {},
   "outputs": [],
   "source": []
  }
 ],
 "metadata": {
  "kernelspec": {
   "display_name": "Bash with Marlowe Tools",
   "language": "bash",
   "name": "bash-minimal"
  },
  "language_info": {
   "codemirror_mode": "shell",
   "file_extension": ".sh",
   "mimetype": "text/x-sh",
   "name": "bash"
  }
 },
 "nbformat": 4,
 "nbformat_minor": 5
}
